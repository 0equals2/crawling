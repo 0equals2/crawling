{
 "cells": [
  {
   "cell_type": "code",
   "execution_count": 2,
   "metadata": {},
   "outputs": [
    {
     "name": "stdout",
     "output_type": "stream",
     "text": [
      "Collecting selenium\n",
      "  Downloading https://files.pythonhosted.org/packages/80/d6/4294f0b4bce4de0abf13e17190289f9d0613b0a44e5dd6a7f5ca98459853/selenium-3.141.0-py2.py3-none-any.whl (904kB)\n",
      "Requirement already satisfied: urllib3 in c:\\programdata\\anaconda3\\lib\\site-packages (from selenium) (1.24.1)\n",
      "Installing collected packages: selenium\n",
      "Successfully installed selenium-3.141.0\n"
     ]
    }
   ],
   "source": [
    "!pip install selenium"
   ]
  },
  {
   "cell_type": "code",
   "execution_count": 3,
   "metadata": {
    "ExecuteTime": {
     "end_time": "2019-06-05T08:31:38.544205Z",
     "start_time": "2019-06-05T08:31:38.047205Z"
    }
   },
   "outputs": [],
   "source": [
    "from bs4 import BeautifulSoup \n",
    "from selenium import webdriver \n",
    "from selenium.webdriver.common.keys import Keys \n",
    "from datetime import datetime \n",
    "import pandas as pd \n",
    "import time \n",
    "import re"
   ]
  },
  {
   "cell_type": "code",
   "execution_count": 4,
   "metadata": {
    "ExecuteTime": {
     "end_time": "2019-06-05T08:34:15.244205Z",
     "start_time": "2019-06-05T08:34:13.085205Z"
    }
   },
   "outputs": [],
   "source": [
    "driver = webdriver.Chrome('chromedriver')"
   ]
  },
  {
   "cell_type": "code",
   "execution_count": 8,
   "metadata": {
    "ExecuteTime": {
     "end_time": "2019-06-05T08:55:48.219405Z",
     "start_time": "2019-06-05T08:55:48.213405Z"
    }
   },
   "outputs": [],
   "source": [
    "page = 1\n",
    "count = 10\n",
    "lst=[]"
   ]
  },
  {
   "cell_type": "markdown",
   "metadata": {},
   "source": [
    "쿼리를 정하여 for문으로 돌릴 예정"
   ]
  },
  {
   "cell_type": "code",
   "execution_count": 7,
   "metadata": {},
   "outputs": [],
   "source": [
    "Query=['이니스프리'] "
   ]
  },
  {
   "cell_type": "markdown",
   "metadata": {},
   "source": [
    "카운트로 네이버 뉴스 링크를 긁어올 페이지 수를 정한다."
   ]
  },
  {
   "cell_type": "code",
   "execution_count": 9,
   "metadata": {
    "ExecuteTime": {
     "start_time": "2019-06-05T08:55:50.199Z"
    }
   },
   "outputs": [
    {
     "name": "stdout",
     "output_type": "stream",
     "text": [
      "11\n",
      "21\n",
      "31\n",
      "41\n",
      "51\n",
      "61\n",
      "71\n",
      "81\n",
      "91\n",
      "101\n"
     ]
    }
   ],
   "source": [
    "while count:\n",
    "    try:\n",
    "        driver.get(f'https://search.naver.com/search.naver?&where=news&query=이니스프리&start={page}')\n",
    "        time.sleep(1.5)\n",
    "        page += 10\n",
    "        count -= 1\n",
    "        news_list= driver.find_elements_by_css_selector('#main_pack > div.news.mynews.section._prs_nws > ul > li')\n",
    "        for each_news in news_list:\n",
    "            a_tag = each_news.find_elements_by_css_selector('a')[0]\n",
    "            lst.append(a_tag.get_attribute(\"href\"))\n",
    "    except:\n",
    "       break\n",
    "    print(page)"
   ]
  },
  {
   "cell_type": "markdown",
   "metadata": {},
   "source": [
    "키워드 검색으로 나오는 동영상의 링크를 크롤링하여 파일로 저장"
   ]
  },
  {
   "cell_type": "code",
   "execution_count": 68,
   "metadata": {
    "ExecuteTime": {
     "start_time": "2019-06-05T08:55:52.869Z"
    }
   },
   "outputs": [],
   "source": [
    "file1 = open(\"news_link.txt\",\"w\")\n",
    "for line in lst:\n",
    "    file1.writelines(line + '\\n')\n",
    "file1.close()"
   ]
  },
  {
   "cell_type": "markdown",
   "metadata": {},
   "source": [
    "신문사별 기사를 확인"
   ]
  },
  {
   "cell_type": "code",
   "execution_count": 35,
   "metadata": {
    "scrolled": true
   },
   "outputs": [
    {
     "name": "stdout",
     "output_type": "stream",
     "text": [
      "http://kor.theasian.asia/archives/223786\n",
      "http://news1.kr/articles/?3639204\n",
      "http://www.dailypop.kr/news/articleView.html?idxno=39472\n",
      "http://paxnetnews.com/allView?vNewsSetId=6073&articleId=2019060510183601127&objId=A2019060510183601127&portalCode=naver\n",
      "https://www.insight.co.kr/news/230632\n",
      "http://www.newsprime.co.kr/news/article.html?no=462461\n",
      "http://www.sisa-news.com/news/article.html?no=118749\n",
      "http://www.fashionbiz.co.kr/TN/?cate=2&recom=2&idx=172621\n",
      "http://www.etoday.co.kr/news/section/newsview.php?idxno=1763304\n",
      "http://www.sisaon.co.kr/news/articleView.html?idxno=94859\n",
      "http://www.edaily.co.kr/news/newspath.asp?newsid=03466966622518768\n",
      "http://kor.theasian.asia/archives/223490\n",
      "http://www.dailysmart.co.kr/news/articleView.html?idxno=11940\n",
      "http://moneys.mt.co.kr/news/mwView.php?no=2019060415128041478\n",
      "http://www.sisaon.co.kr/news/articleView.html?idxno=94925\n",
      "http://zine.istyle24.com/Beauty/BeautyView.aspx?Idx=43882&Menu=1&_C_=23069\n",
      "https://www.hankyung.com/article/2019060326491\n",
      "http://www.sisaon.co.kr/news/articleView.html?idxno=94769\n",
      "http://kor.theasian.asia/archives/223236\n",
      "http://www.slist.kr/news/articleView.html?idxno=85354\n",
      "http://www.jejunews.com/news/articleView.html?idxno=2139037\n",
      "http://www.jejudomin.co.kr/news/articleView.html?idxno=112739\n",
      "http://www.dailypop.kr/news/articleView.html?idxno=39411\n",
      "http://www.getnews.co.kr/view.php?ud=2019060116080794476a6b374224_16\n",
      "http://www.bosa.co.kr/news/articleView.html?idxno=2106131\n",
      "http://www.newskr.kr/news/articleView.html?idxno=21011\n",
      "http://www.businesspost.co.kr/BP?command=article_view&num=129805\n",
      "http://www.anewsa.com/detail.php?number=1791648&thread=07r02\n",
      "http://www.sisaon.co.kr/news/articleView.html?idxno=94264\n",
      "http://www.mhj21.com/121660\n",
      "http://paxnetnews.com/allView?vNewsSetId=6073&articleId=2019053110301001109&objId=A2019053110301001109&portalCode=naver\n",
      "http://famtimes.co.kr/news/view/246873\n",
      "http://www.srtimes.kr/news/articleView.html?idxno=38445\n",
      "http://www.ggilbo.com/news/articleView.html?idxno=670811\n",
      "http://www.newsis.com/view/?id=NISX20190501_0000638125&cID=13001&pID=13000\n",
      "http://www.dailypop.kr/news/articleView.html?idxno=39296\n",
      "http://www.srtimes.kr/news/articleView.html?idxno=39923\n",
      "http://www.newsprime.co.kr/news/article.html?no=460382\n",
      "http://www.updownnews.co.kr/news/articleView.html?idxno=202632\n",
      "http://www.newspim.com/news/view/20190423000781\n",
      "http://weekly.cnbnews.com/news/article.html?no=127577\n",
      "http://news.mt.co.kr/mtview.php?no=2019042909340612116\n",
      "http://kor.theasian.asia/archives/219402\n",
      "http://www.dt.co.kr/contents.html?article_no=2019050102101032048001&ref=naver\n",
      "http://www.jejudomin.co.kr/news/articleView.html?idxno=111439\n",
      "http://www.newsprime.co.kr/news/article.html?no=462029\n",
      "http://weekly.cnbnews.com/news/article.html?no=128014\n",
      "http://www.kukinews.com/news/article.html?no=655279\n",
      "http://www.ezyeconomy.com/news/articleView.html?idxno=89972\n",
      "http://www.wsobi.com/news/articleView.html?idxno=72450\n",
      "http://www.fnnews.com/news/201905281823334720\n",
      "http://www.jejudomin.co.kr/news/articleView.html?idxno=111553\n",
      "http://www.skyedaily.com/news/news_view.html?ID=85120\n",
      "http://www.fetv.co.kr/news/article.html?no=25643\n",
      "https://www.sedaily.com/NewsView/1VJ5FTYI42\n",
      "http://www.newskr.kr/news/articleView.html?idxno=20019\n",
      "https://www.insight.co.kr/news/225512\n",
      "http://www.businesspost.co.kr/BP?command=article_view&num=128892\n",
      "http://www.babytimes.co.kr/news/articleView.html?idxno=27735\n",
      "http://www.4th.kr/news/articleView.html?idxno=12396\n",
      "http://www.mhj21.com/120631\n",
      "http://www.fashionbiz.co.kr/TN/?cate=2&recom=2&idx=171851\n",
      "http://www.headlinejeju.co.kr/?mod=news&act=articleView&idxno=360519\n",
      "http://www.sisaon.co.kr/news/articleView.html?idxno=93002\n",
      "http://www.bokuennews.com/news/article.html?no=175214\n",
      "http://www.ekoreanews.co.kr/news/articleView.html?idxno=31376\n",
      "http://www.asiatime.co.kr/news/articleView.html?idxno=248789\n",
      "http://www.ekn.kr/news/article.html?no=433523\n",
      "http://news.kmib.co.kr/article/view.asp?arcid=0924080093&code=11151400&cp=nv\n",
      "http://www.seconomy.kr/view.php?ud=2019052009183748798818e98b_2\n",
      "http://www.dailypop.kr/news/articleView.html?idxno=38820\n",
      "http://www.newsis.com/view/?id=NISX20190424_0000631352&cID=10201&pID=10200\n",
      "http://kor.theasian.asia/archives/220837\n",
      "http://www.ezyeconomy.com/news/articleView.html?idxno=90671\n",
      "http://www.g-enews.com/ko-kr/news/article/news_all/2019050309432827604e4869c120_1/article.html\n",
      "http://www.fnnews.com/news/201904081016226073\n",
      "http://www.bokuennews.com/news/article.html?no=174030\n",
      "http://www.kukinews.com/news/article.html?no=649937\n",
      "http://kdfnews.com/news/view.php?idx=34630\n",
      "http://www.wsobi.com/news/articleView.html?idxno=73737\n",
      "http://kor.theasian.asia/archives/221218\n",
      "http://news.mtn.co.kr/newscenter/news_viewer.mtn?gidx=2019051509384799751\n",
      "http://www.fetv.co.kr/news/article.html?no=24903\n",
      "http://www.greened.kr/news/articleView.html?idxno=103610\n",
      "http://www.etoday.co.kr/news/section/newsview.php?idxno=1758398\n",
      "http://moneys.mt.co.kr/news/mwView.php?no=2019050208218050366\n",
      "http://www.newsis.com/view/?id=NISX20190429_0000635163&cID=13001&pID=13000\n",
      "http://www.newsis.com/view/?id=NISX20190402_0000606800&cID=13001&pID=13000\n",
      "http://news.hankyung.com/article/2019030490231\n",
      "http://www.fetv.co.kr/news/article.html?no=24631\n",
      "http://kor.theasian.asia/archives/217502\n",
      "http://www.fnnews.com/news/201904290902013901\n",
      "http://www.thekpm.com/view.php?ud=201904180925493909124506bdf1_17\n",
      "http://www.bosa.co.kr/news/articleView.html?idxno=2101210\n",
      "http://www.srtimes.kr/news/articleView.html?idxno=39293\n",
      "http://view.asiae.co.kr/news/view.htm?idxno=2019042909410971741\n",
      "http://news.mt.co.kr/mtview.php?no=2019040309303037308\n",
      "http://www.newsway.co.kr/news/view?tp=1&ud=2019042909021921867\n",
      "http://news.mt.co.kr/mtview.php?no=2019042908500321174\n",
      "http://www.seconomy.kr/view.php?ud=201904151047588150798818e98b_2\n"
     ]
    }
   ],
   "source": [
    "for i in lst:\n",
    "    if 'theasian' in i:\n",
    "        print(i)"
   ]
  },
  {
   "cell_type": "code",
   "execution_count": 20,
   "metadata": {},
   "outputs": [],
   "source": [
    "driver.get('http://kor.theasian.asia/archives/223786')"
   ]
  },
  {
   "cell_type": "markdown",
   "metadata": {},
   "source": [
    "데이터를 저장할 딕셔너리 생성"
   ]
  },
  {
   "cell_type": "code",
   "execution_count": null,
   "metadata": {},
   "outputs": [],
   "source": [
    "news_dic={'title' : [], 'content' : [], 'date' : [], 'query' : []}"
   ]
  },
  {
   "cell_type": "code",
   "execution_count": 22,
   "metadata": {},
   "outputs": [],
   "source": [
    "news_dic['title'].append(driver.find_element_by_css_selector('#post-223786 > header > h1').text)"
   ]
  },
  {
   "cell_type": "markdown",
   "metadata": {},
   "source": [
    "June 5, 2019로 표현되는 날짜 → 데이트타임 속성으로 가져올 수 있으나 the asian 뉴스에 한정적으로 가능."
   ]
  },
  {
   "cell_type": "code",
   "execution_count": 70,
   "metadata": {
    "scrolled": true
   },
   "outputs": [
    {
     "data": {
      "text/plain": [
       "'2019-06-05T13:43:58+09:00'"
      ]
     },
     "execution_count": 70,
     "metadata": {},
     "output_type": "execute_result"
    }
   ],
   "source": [
    "news_dic['date'].append(driver.find_element_by_css_selector('#post-223786 > header > div > span.meta-date > a > time').get_attribute(\"datetime\"))"
   ]
  },
  {
   "cell_type": "code",
   "execution_count": 32,
   "metadata": {},
   "outputs": [],
   "source": [
    "news_dic['content'].append(driver.find_element_by_css_selector('#post-223786 > div').text)"
   ]
  },
  {
   "cell_type": "code",
   "execution_count": 33,
   "metadata": {},
   "outputs": [],
   "source": [
    "news_dic['query'].append('이니스프리')"
   ]
  },
  {
   "cell_type": "code",
   "execution_count": 34,
   "metadata": {
    "scrolled": true
   },
   "outputs": [
    {
     "data": {
      "text/plain": [
       "{'title': ['이니스프리 ‘포어 블러 라인’ 출시, 트러블성 피부 위한 모공 커버 집중 메이크업'],\n",
       " 'content': ['포어 블러 라인 <사진=이니스프리>\\n답답함과 트러블 유발 줄여주는 마일드 포뮬러의 모공 메이크업 라인 3종 구성\\n논코메도제닉 테스트를 완료하여 트러블성/여드름성 피부에도 사용 가능\\n메쉬망이 적용되어 뭉침없이, 모 길이가 긴 브러쉬 퍼프로 투명하게! 메이크업 효과 극대화\\n[아시아엔=이주형 기자] 자연주의 화장품 브랜드 이니스프리(www.innisfree.com)가 답답함 없이 모공 커버에만 집중할 수 있는 모공 메이크업 라인 ‘포어 블러 라인’ 3종을 출시한다.\\n‘포어 블러’ 라인은 모공과 트러블 고민을 동시에 고려하여 모공 커버에 도움을 주는 포뮬러 적용으로 매끈하고 뽀얀 피부를 완성할 수 있으며, 전 제품 논코메도제닉 테스트를 완료하여 트러블성/여드름성 피부에도 사용 가능하다.\\n모공 커버에 특화된 ▲포어 블러 파우더는 메쉬망 적용으로 내용물이 퍼프에 고르게 묻어나 뭉침없이 바를 수 있다. 모공 커버에 특화돼 있어 피부 답답함이나 백탁현상 없이 가벼운 것이 특징이다. 파우더와 마찬가지로 ▲포어 블러 팩트 역시 모 길이가 긴 브러쉬 팩트 퍼프를 적용하여 브러쉬로 바른 것처럼 가볍과 투명한 발림성을 자랑한다. 피치 핑크 파우더가 화사한 톤업까지 도와준다.\\n메이크업 초기 단계에 사용하면 좋은 ▲포어 블러 프라이머는 실리콘 오일이 첨가되지 않았으며, 피부 답답함과 끈적임 없이 산뜻한 마무리로 여름철 사용하기 적당하다. 모공과 잔주름 등을 커버할 뿐 아니라 촉촉한 텍스처로 건조함 없이 매끈한 피부결 연출이 가능하다.\\n트러블성/여드름성 피부도 사용 가능한 모공 커버 집중 메이크업 라인 ‘포어 블러 라인’은 전국 이니스프리 매장과 홈페이지(www.innisfree.com)를 통해 만날 수 있다.\\n이주형 기자, mintcondition@theasian.asia\\nShare this:\\nTelegram'],\n",
       " 'date': ['2019-06-05T13:43:58+09:00'],\n",
       " 'query': ['이니스프리']}"
      ]
     },
     "execution_count": 34,
     "metadata": {},
     "output_type": "execute_result"
    }
   ],
   "source": [
    "news_dic"
   ]
  },
  {
   "cell_type": "markdown",
   "metadata": {},
   "source": [
    "두 번째 기사!"
   ]
  },
  {
   "cell_type": "code",
   "execution_count": 46,
   "metadata": {},
   "outputs": [],
   "source": [
    "driver.get('http://www.dailypop.kr/news/articleView.html?idxno=39472')"
   ]
  },
  {
   "cell_type": "code",
   "execution_count": 39,
   "metadata": {
    "scrolled": true
   },
   "outputs": [],
   "source": [
    "news_dic['title'].append(driver.find_element_by_css_selector('#article_body_content > div.title > h2').text)"
   ]
  },
  {
   "cell_type": "code",
   "execution_count": 40,
   "metadata": {},
   "outputs": [],
   "source": [
    "news_dic['date'].append(driver.find_element_by_css_selector('#article_body_content > div.title > div.info > span').text)"
   ]
  },
  {
   "cell_type": "markdown",
   "metadata": {},
   "source": [
    "| 를 기준으로 뒷 부분을 나누고 날짜만 추출할 수 있을듯"
   ]
  },
  {
   "cell_type": "code",
   "execution_count": 43,
   "metadata": {},
   "outputs": [
    {
     "data": {
      "text/plain": [
       "'(서울=뉴스1) 김수정 기자 | 2019-06-05 16:00 송고'"
      ]
     },
     "execution_count": 43,
     "metadata": {},
     "output_type": "execute_result"
    }
   ],
   "source": [
    "a=driver.find_element_by_css_selector('#article_body_content > div.title > div.info').text"
   ]
  },
  {
   "cell_type": "code",
   "execution_count": 44,
   "metadata": {},
   "outputs": [
    {
     "data": {
      "text/plain": [
       "'© 뉴스1\\n\\n이니스프리의 ‘제주 왕벚꽃 톤업크림’이 제주 자생종 왕벚잎 추출물을 함유해 자연주의 화장품을 찾는 소비자들로부터 주목받고 있다. 이니스프리는 이전부터 ‘자연주의 화장품’을 표방하며 ‘자연사랑’과 ‘제주사랑’을 알리고 있다. 특히 밀레니얼 세대의 감성과 취향에 맞는 온오프라인 마케팅을 진행해 젊은 소비자들에게 각광받고 있다.\\n  \\n\\'제주 왕벚꽃 톤업 크림\\'도 이니스프리의 자연사랑, 제주사랑 연장선상에 있는 제품이다. 제주 왕벚잎을 용암 해수로 3주 저온 숙성을 거친 뒤 추출한 제주 왕벚잎 추출물은 브라이트닝 효과가 있어 맑고 화사한 생기가 도는 피부로 가꿔준다. 또 사탕무에서 추출한 내추럴 베타인은 자연 유래 보습 성분으로 피부에 보습막을 만들어 촉촉한 피부를 만들어 준다.\\n  \\n얼굴에 생기를 전하고 자연스러운 톤업 효과가 있는 만큼 1990년대 중후반과 2000년대에 출생한 밀레니얼 세대, Z세대의 감성과 취향에 맞는다는 것도 특장점이다. 인스타그램이나 페이스북, 트위터 등에 셀카를 찍어 올리는 젊은 세대가 많은 만큼 화사한 얼굴을 만들어 준다는 콘셉트를 홍보 전략으로 삼았다. 이니스프리가 3년 만에 새로운 원료를 개발해 만든 제품인 만큼 다양한 온오프라인 캠페인을 전개하고 있다.\\n  \\n제품 론칭 전에 기획한 톤업 크림 세트는 자연스럽고 예쁜 벚꽃톤 피부를 직간접적으로 경험할 수 있는 벚꽃톤 카메라가 포함돼 5000개가 완판될 정도로 인기를 끌었다. 또 도심 곳곳에서 벚꽃톤 필터 이미지를 브로마이드 사이즈로 촬영해 주는 팝업카를 운행해 젊은 세대들의 인기를 끌었다.\\n\\n또 인기 웹드라마 ‘에이틴’에 출연해 화제를 모은 \\'JYP 액터스\\' 소속의 배우 신예은을 모델로 발탁하여 인지도를 끌어올렸으며 JTBC 인기드라마 \\'스카이 캐슬\\'에서 강예서로 출연한 배우 김혜윤과 화보 촬영을 진행했다. 800여개 로드샵과 마트, 면세점은 물론 온라인 쇼핑몰까지 1100개가 넘는 유통 채널을 확보, 다양한 마케팅 활동을 전개하고 있다.\\n  \\n이니스프리 관계자는 \"단순히 왕벚꽃의 이미지나 향을 해석한 것이 아니라 왕벚잎에 들어있는 추출물을 피부가 건강한 생기를 찾을 수 있는 효능 원료로 개발한 것이다\"라며 \"수분감 있는 질감이 건조함 없이 피부에 밀착돼 맑고 화사하게 민낯을 밝혀주는 수분 생기 톤업 크림이다. 얼굴을 덮은 듯한 답답하고 텁텁한 백탁이 아니라 원래 내 피부인 것처럼 가볍고 자연스러운 톤업 효과를 전달한다\"고 설명했다.\\n\\n© 뉴스1\\n\\n이니스프리는 자연주의의 답을 제주에서 찾았다. 제주는 맑고 신선한 공기에 부드럽고 따뜻한 햇살, 비옥하고 건강한 토양, 순수한 물 등 깨끗한 자연의 그린에너지를 담은 청정지역이다. 이니스프리는 서광다원에서 재배한 무농약 녹차잎을 활용, 그린티 라인의 주요 성분으로 사용하는 등 제주의 자연에서 자라난 식물을 화장품 원료로 활용하고 있다.\\n  \\n이와 함께 제주에서 얻은 좋은 원료로 만든 친환경 화장품과 유기농 요리 등 오직 제주에서만 느낄 수 있는 즐거움을 경험할 수 있는 브랜드 체험관 \\'이니스프리 제주하우스\\'를 운영하는 등 제주와 불가분의 관계를 맺고 있다.\\n  \\n이니스프리는 △믿을 수 있는 천연원료를 통해 건강한 아름다움을 추구한다 △다양하고 좋은 품질의 제품을 합리적인 가격으로 제공해 착한 소비를 추구한다 △자연 혜택을 담은 친환경 그린 디자인을 지속 확대한다 △자연의 건강함을 지키기 위해 친환경 그린 라이프를 실천한다 △깨끗한 자연의 다채로움을 담아 오감이 즐거워지는 체험을 전한다 등의 약속을 통해 자연주의 콘셉트를 이어오고 있다.\\n\\n© 뉴스1\\n\\n\\n\\nnohsm@'"
      ]
     },
     "execution_count": 44,
     "metadata": {},
     "output_type": "execute_result"
    }
   ],
   "source": [
    "driver.find_element_by_css_selector('#articles_detail').text"
   ]
  },
  {
   "cell_type": "code",
   "execution_count": 48,
   "metadata": {},
   "outputs": [
    {
     "data": {
      "text/plain": [
       "'[뷰티&패션] 키엘·LG생활건강·이니스프리 外'"
      ]
     },
     "execution_count": 48,
     "metadata": {},
     "output_type": "execute_result"
    }
   ],
   "source": [
    "driver.find_element_by_css_selector('#user-container > div.float-center.max-width-1080 > header > header > div').text"
   ]
  },
  {
   "cell_type": "markdown",
   "metadata": {},
   "source": [
    "숫자만 가져오면서 띄어쓰기를 기준으로 날짜에 해당하는 데이터만 가져올 수 있을듯"
   ]
  },
  {
   "cell_type": "code",
   "execution_count": 49,
   "metadata": {},
   "outputs": [
    {
     "data": {
      "text/plain": [
       "'승인 2019.06.05 16:30'"
      ]
     },
     "execution_count": 49,
     "metadata": {},
     "output_type": "execute_result"
    }
   ],
   "source": [
    "driver.find_element_by_css_selector('#user-container > div.float-center.max-width-1080 > header > section > div > ul > li:nth-child(2)').text"
   ]
  },
  {
   "cell_type": "markdown",
   "metadata": {},
   "source": [
    "가장 간편하게 텍스트를 가져오는 방법이지만 불순물이 섞여있어 처리가 불편함"
   ]
  },
  {
   "cell_type": "code",
   "execution_count": 54,
   "metadata": {},
   "outputs": [
    {
     "data": {
      "text/plain": [
       "\"스웨덴 시계 브랜드, 트리바(TRIWA) '스노우 엘바 워치' 코리아 익스클루시브 제품 출시\\n모던함과 클래식이 공존하는 북유럽 감성 디자인의 스웨덴 시계 브랜드 트리바(TRIWA)에서 '스노우 엘바 워치'코리아 익스클루시브 제품을 출시한다.\\n이번에 출시된 엘바 컬렉션은 디테일을 최소화한 미니멀한 디자인의 여성시계로 한국 소비자를 위해 특별히 제작된 코리아 익스클루시브 제품이다. 특히 트리바(TRIWA)가 자랑하는 천연 오가닉 가죽 스트랩 제작 스튜디오에서 고심 끝에 선정한 라이트 핑크, 오프화이트 컬러의 레더 스트랩은 착용감까지 훌륭하다. \\n더불어 베젤과 크라운, 인덱스 컬러는 한국 여성들이 선호하는 로즈골드 컬러로 제작되어 세련미까지 갖추었다.\\n  뉴에라, '토이스토리' 컬렉션 출시\\n뉴에라 캡 코리아(이하 뉴에라)가 오는 6월 5일 디즈니·픽사의 애니메이션 토이스토리 키즈 컬렉션을 출시한다고 밝혔다.\\n총 5종의 모자로 선보이는 이번 컬렉션은 토이스토리 로고를 적용한 59FIFTY, 9FIFTY 2종과 토이스토리의 대표 캐릭터인 보안관 우디·우주인 버즈·외계인 알린의 캐릭터를 담은 3종의 9FIFTY로 모두 키즈용 제품이다.\\n1995년 첫 개봉한 '토이 스토리'는 무려 24년 동안 전 세계인의 사랑을 받아온 디즈니·픽사 애니메이션으로 올해 6월 그 네 번째 시리즈인 '토이 스토리4'의 개봉을 앞두고 있다. 토이 스토리는 20년이 넘은 긴 역사 덕분에 세대를 초월해 부모와 자녀가 함께 즐기고 공감할 수 있는 몇 안되는 작품으로 자녀의 모자를 구입하는 부모들까지 공감할 수 있는 제품으로 주목 받고 있다.\\n  키엘, 쿨링 수분 젤 크림 125ml 대용량 한정 출시\\n1851년 조제 약국에서 출발한 뉴욕 코스메틱 브랜드 키엘이 본격적인 여름을 맞아 쿨링 수분 젤 크림 125ml 대용량 제품을 한정 출시한다.\\n최근 낮 기온이 30도 안팎까지 오르는 여름 날씨에 돌입하며 피부 온도를 낮춰주는 다양한 링 케어 제품들이 출시되며 소비자들의 마음을 사로 잡고 있다. 이에 키엘은 더위에 지친 피부에 아이스 쿨링 효과로 피부 온도를 -2도 낮춰주고 강력한 수분 공급과 피지 케어까지 돕는 키엘의 베스트 셀러 젤타입 수분 크림을 대용량 사이즈로 선보인다.\\n쿨링 수분 젤 크림은 남극에서 발견된 빙하 당단백질 추출물과 사막 식물 추출물이 함유 되어 있어 즉각적으로 수분을 공급하고 피부를 보호해준다. 쿨링 수분 젤 크림 대용량 제품은 125ml에 7만 8000원 대로, 기존 50ml 대비 2.5배 커진 용량을 약 23% 절약된 금액으로 구매할 수 있어 경제적이다.\\n  르꼬끄 스포르티브 나만의 컬러를 찾아주는 '프리즘 컬렉션 '출시\\n르꼬끄 스포르티브(이하 르꼬끄)가 여름 시즌을 맞아 '여러 컬러들 속 너의 자신을 해방시켜봐'라는 의미의 프리즘(FREESM) 컬렉션을 선보인다.\\n프리즘 컬렉션은 핫썸머 시즌에 팝하게 연출 할 수 있는 반팔 맨투맨 티셔츠로 이번 시즌 트랜드인 네온컬러가 돋보이는 제품으로 홀로그램 아트웍을 적용해 더운 날씨에도 가볍고 스트릿 스타일로 연출이 가능하며 중량감 있는 헤비웨스트 싱글 소재를 사용해 안정된 핏감을 제공한다. 루즈핏 스타일로 스커트와 팬츠들과 함께 감각적인 여름 데일리룩 연출이 가능하다.\\n함께 출시된 네온 컬러의 힙색은 미니파우치가 포함되었으며 휴대폰등 가벼운 소지품 보관이 용이해 실용성과 함께 일상에서와 여행지에서 포인트 스타일링으로 연출할 수 있다.\\n\\n  브이티코스메틱, 리피스틱 스페셜 & 러블리·큐트세트& 미니 리피 스틱 키트'출시\\n브이티코스메틱은 6월 4일 'BT21ㅣVT 2ND EDITION에서 '리피 스틱 스페셜(LIPPY STICK SPECIAL)'컬러 8종과 한정판 세트 상품인 '리피 스틱 스페셜 에디션 세트러블리&큐트'·'미니 리피 스틱 키트'를 새롭게 출시한다고 밝혔다.\\n이번 신제품 '리피 스틱 스페셜'은 지난해 선보였던 'BT21 리피 스틱'보다 한 단계 더 업그레이드 된 제품으로, '우주스타BT21'캐릭터들이 각각의 제품마다 매칭되어 있다. 회사 측에 따르면 해당 제품은 촉촉하게 녹아드는 컬러 레이어링랩핑 스틱으로, 선명한 발색과 크리미한사용감이 수채화 같이 맑은 색상을 연출해주며 오랜 시간 깨끗한 컬러를 유지시켜 준다.\\n함께 출시되는 '리피 스틱 스페셜 에디션 세트러블리&큐트'는 특별 패키지에 담긴 한정판 세트 상품으로,각각 1호부터 4호까지 화사한 봄 분위기를 담아 사랑스러운 입술을 연출할 수 있는 컬러 4종과 과즙 컬러 가득 통통 튀는 귀엽고 생기있는 컬러들인 5호부터 8호까지 4가지 컬러로 이뤄진다.\\n  LG생활건강, '후 비첩 순환 에센스 스페셜 에디션' 선보여\\nLG생활건강이 궁중 백자에 생기롭게 피어난 모란과 국화, 연꽃을 담은 디자인으로 궁중 예술작품의 아름다움을 느껴볼 수 있는 '후 비첩 순환 에센스 스페셜 에디션'을 출시했다.\\n이번 스페셜 에디션은 국보 제114호 '청자상감국화모란문과형병'을 모티브로 삼아 맑고 청아하게 피어난 왕후의 아름다움을 표현했다. '청자상감국화모란문과형병'은 참외 모양의 긴 화병으로, 예로부터 부귀를 의미하는 모란, 품격을 뜻하는 국화, 청정함의 상징인 연꽃이 아름답게 새겨져 있다. \\n'비첩 순환 에센스'는 공진비단 배양액과 해울환 등 궁중 비방 성분을 함유해 피부 순환을 도와주는 제품이다. 세안 후 첫 번째로 사용하면 좋은 첫 단계 에센스로, 아침 세안 후 얼굴을 산뜻하게 가꿔주고 저녁에는 하루 종일 지친 피부에 생기를 더해 준다.\\n  로지컬리스킨, 디펜스로직 '하이드로 멀티쉴드' 출시\\n화장품 제조회사 스킨리버스랩의 고기능성 화장품 브랜드 '로지컬리스킨'은 하절기를 맞아 자외선 차단 및 미백에 도움을 주는 선 에센스 '하이드로 멀티쉴드'를 출시했다고 6월 4일 밝혔다.\\n이번에 출시한 디펜스로직 '하이드로 멀티쉴드'는 자외선 차단 기능뿐만 아니라 미백, 주름개선에 도움을 주는 광노화 기능성 선 에센스로 촉촉하면서 산뜻한 사용감이 특징이다.\\n스킨리버스랩은 '하이드로 멀티쉴드(40ml/29,300원)'출시를 기념해, 자사몰에서 오는 6월 30일까지 10% 할인 판매하고, 매일 선착순 구매고객 100명 대상 체험용 클렌징폼과 정품 마스크팩 무료 증정 행사를 진행한다. \\n  페리페라, 영롱한 광대빔 연출하는 '맑게 빛나는 플래쉬 치크' 출시\\n클리오의 앙큼한 페리걸 메이크업 브랜드 페리페라가 영롱한 펄감으로 광대빔을 연출해주는 '맑게 빛나는 플래쉬 치크'를 출시했다.\\n'맑게 빛나는 플래쉬 치크'는 텁텁한 느낌이나 모공 끼임 없이 맑은 발색을 선보이는 파우더 타입의 치크 신제품이다. '블루밍 포토 파우더'성분으로 어느 각도에서 보아도 영롱한 광대빔을 연출할 수 있으며, 높은 투명도의 다이아몬드 파우더 함유로 맑고 투명한 시스루발색을 선보인다. \\n'맑게 빛나는 플래쉬 치크'는 곱게 말린 호박 베이지 컬러 ▲1호 햇볕에 말린 호박, 누구나 사용하기 쉬운 은은한 핑크 컬러 ▲2호 한 번 깨문 복숭아, 싱그러운 코랄빛 구아바 컬러 ▲3호 하루 한 조각 구아바, 잘 익은 무화과 MLBB 컬러 ▲4호 정성 들인 무화과 총 4컬러로 출시됐다.\\n  이니스프리, '포레스트 포맨 올인원 에센스' 리뉴얼 출시\\n자연주의 화장품 브랜드 이니스프리가 대표 남성 제품인 '포레스트 포맨 올인원 에센스'를 6년 만에 리뉴얼 출시한다.\\n'포레스트 포맨 올인원 에센스'는 여러 단계 바르기를 번거로워 하는 남성들을 위해 수분 공급부터 피부 고민 케어까지 남성 피부에 꼭 필요한 기능을 한 번에 담은 올인원 에센스다. 제주 곶자왈에서 유래한 블랙이스트(Black Yeast) 성분이 피부 보호막을 만들어 스트레스, 음주 등으로 약해진 피부를 가꿔준다.\\n가장 가벼운 사용감의 ▲포어 케어는 펩타이드를 함유한 에센스가 모공과 번들거리는 유분을 케어해 피부를 매끈하고 산뜻하게 해준다.  ▲트러블 케어는 논코메도제닉 테스트를 완료하여 여드름성 피부도 사용 가능하고, 각질로 인한 트러블을 케어해 깨끗한 피부로 가꿔준다. \\n  솝퓨리 리치리치 샴푸바 리뉴얼 이벤트\\n클렌징 전문 브랜드 솝퓨리가 리치리치 샴푸바 리뉴얼 출시를 앞두고 고객의 목소리를 듣는다.\\n지난 해 출시한 리치리치 샴푸바는, 꿀 성분 함유로 두피와 모발에 풍부한 영양을 공급해 거칠어진 머릿결을 윤기 나게 케어해주는 고체샴푸이다. 그간의 구매 고객 리뷰를 비롯해, 리치리치 샴푸바에 대해 기대하는 점 등 고객들의 다양한 목소리를 담아 보다 더 좋은 제품으로 리뉴얼 할 계획이다.\\n오는 6월 30일까지 솝퓨리 공식 홈페이지 Q&A 게시판이나, 이벤트 하단의 댓글로 의견을 남길 수 있으며, 소중한 의견을 남긴 고객 전원에게는 적립금 2천원을 지급하고, 참가한 고객 중 5명을 선발하여 솝퓨리 샴푸바 1종을 추가로 증정한다.\\n  리복, 예측 불가능의 힘 이끄는 '벡터 시티' 캠페인 전개!\\n글로벌 피트니스 브랜드 리복이 새로운 클래식 캠페인 '벡터 시티(The Vector City)'전개와 함께 의류 라인 '벡터 시티 컬렉션(Vector City Collection)'을 출시한다고 6월 4일 밝혔다.\\n'벡터 시티' 캠페인은 우리에게 익숙한 90년대 리복 클래식 무드에 현대적인 감각과 새로운 시각을 더해 리복만의 독창적인 비전을 제시한다. 대담하게 펼쳐지는 도심 속 스트리트 런웨이를 컨셉으로 이 시대의 가장 트렌디한 클래식 스타일을 보여준다.\\n이번 캠페인은 '예측 불가능의 힘'이라는 브랜드 메시지를 토대로 리복 클래식의 헤리티지를 계승하는 것이 핵심이다. '예측 불가능의 힘'은 기존의 틀을 깨고 과감하게 앞으로 나아가자는 리복의 정신과 맞닿아 있으며, 리복은 APAC(ASIA & PACIFIC) 앰버서더 지코와 함께 메시지가 의미하는 바를 다양하게 표현하고 전파할 예정이다.\\n(데일리팝=변은영 기자)\\nTag\\n#트리바\\n#뉴에라\\n#토이스토리\\n#키엘\\n#르꼬끄\\n#프리즘 컬렉션\\n#브이티코스메틱\\n#LG생활건강\\n#로지컬리스킨\\n#페리페라\\n#치크\\n#이니스프리\\n#리뉴얼\\n#숍퓨리\\n#샴푸바\\n#리복\\n#벡터 시티\\n저작권자 © 데일리팝 \""
      ]
     },
     "execution_count": 54,
     "metadata": {},
     "output_type": "execute_result"
    }
   ],
   "source": [
    "driver.find_element_by_css_selector('#user-container > div.float-center.max-width-1080 > div.user-content > section > div').text[0:-25]"
   ]
  },
  {
   "cell_type": "code",
   "execution_count": 56,
   "metadata": {},
   "outputs": [
    {
     "data": {
      "text/plain": [
       "\"스웨덴 시계 브랜드, 트리바(TRIWA) '스노우 엘바 워치' 코리아 익스클루시브 제품 출시\""
      ]
     },
     "execution_count": 56,
     "metadata": {},
     "output_type": "execute_result"
    }
   ],
   "source": [
    "driver.find_element_by_css_selector('#article-view-content-div > p:nth-child(2) > strong').text"
   ]
  },
  {
   "cell_type": "code",
   "execution_count": 59,
   "metadata": {},
   "outputs": [
    {
     "data": {
      "text/plain": [
       "\"모던함과 클래식이 공존하는 북유럽 감성 디자인의 스웨덴 시계 브랜드 트리바(TRIWA)에서 '스노우 엘바 워치'코리아 익스클루시브 제품을 출시한다.\""
      ]
     },
     "execution_count": 59,
     "metadata": {},
     "output_type": "execute_result"
    }
   ],
   "source": [
    "driver.find_element_by_css_selector('#article-view-content-div > p:nth-child(3)').text"
   ]
  },
  {
   "cell_type": "markdown",
   "metadata": {},
   "source": [
    "데일리팝의 기사의 경우 p태그 내부의 텍스트를 이어 붙이면 더욱 깔끔하게 가져올 수 있음"
   ]
  },
  {
   "cell_type": "code",
   "execution_count": 64,
   "metadata": {},
   "outputs": [],
   "source": [
    "lines=driver.find_elements_by_tag_name('p')"
   ]
  },
  {
   "cell_type": "code",
   "execution_count": 63,
   "metadata": {},
   "outputs": [
    {
     "name": "stdout",
     "output_type": "stream",
     "text": [
      "\n",
      "스웨덴 시계 브랜드, 트리바(TRIWA) '스노우 엘바 워치' 코리아 익스클루시브 제품 출시\n",
      "모던함과 클래식이 공존하는 북유럽 감성 디자인의 스웨덴 시계 브랜드 트리바(TRIWA)에서 '스노우 엘바 워치'코리아 익스클루시브 제품을 출시한다.\n",
      "이번에 출시된 엘바 컬렉션은 디테일을 최소화한 미니멀한 디자인의 여성시계로 한국 소비자를 위해 특별히 제작된 코리아 익스클루시브 제품이다. 특히 트리바(TRIWA)가 자랑하는 천연 오가닉 가죽 스트랩 제작 스튜디오에서 고심 끝에 선정한 라이트 핑크, 오프화이트 컬러의 레더 스트랩은 착용감까지 훌륭하다. \n",
      "더불어 베젤과 크라운, 인덱스 컬러는 한국 여성들이 선호하는 로즈골드 컬러로 제작되어 세련미까지 갖추었다.\n",
      " \n",
      "\n",
      "뉴에라, '토이스토리' 컬렉션 출시\n",
      "뉴에라 캡 코리아(이하 뉴에라)가 오는 6월 5일 디즈니·픽사의 애니메이션 토이스토리 키즈 컬렉션을 출시한다고 밝혔다.\n",
      "총 5종의 모자로 선보이는 이번 컬렉션은 토이스토리 로고를 적용한 59FIFTY, 9FIFTY 2종과 토이스토리의 대표 캐릭터인 보안관 우디·우주인 버즈·외계인 알린의 캐릭터를 담은 3종의 9FIFTY로 모두 키즈용 제품이다.\n",
      "1995년 첫 개봉한 '토이 스토리'는 무려 24년 동안 전 세계인의 사랑을 받아온 디즈니·픽사 애니메이션으로 올해 6월 그 네 번째 시리즈인 '토이 스토리4'의 개봉을 앞두고 있다. 토이 스토리는 20년이 넘은 긴 역사 덕분에 세대를 초월해 부모와 자녀가 함께 즐기고 공감할 수 있는 몇 안되는 작품으로 자녀의 모자를 구입하는 부모들까지 공감할 수 있는 제품으로 주목 받고 있다.\n",
      " \n",
      "\n",
      "키엘, 쿨링 수분 젤 크림 125ml 대용량 한정 출시\n",
      "1851년 조제 약국에서 출발한 뉴욕 코스메틱 브랜드 키엘이 본격적인 여름을 맞아 쿨링 수분 젤 크림 125ml 대용량 제품을 한정 출시한다.\n",
      "최근 낮 기온이 30도 안팎까지 오르는 여름 날씨에 돌입하며 피부 온도를 낮춰주는 다양한 링 케어 제품들이 출시되며 소비자들의 마음을 사로 잡고 있다. 이에 키엘은 더위에 지친 피부에 아이스 쿨링 효과로 피부 온도를 -2도 낮춰주고 강력한 수분 공급과 피지 케어까지 돕는 키엘의 베스트 셀러 젤타입 수분 크림을 대용량 사이즈로 선보인다.\n",
      "쿨링 수분 젤 크림은 남극에서 발견된 빙하 당단백질 추출물과 사막 식물 추출물이 함유 되어 있어 즉각적으로 수분을 공급하고 피부를 보호해준다. 쿨링 수분 젤 크림 대용량 제품은 125ml에 7만 8000원 대로, 기존 50ml 대비 2.5배 커진 용량을 약 23% 절약된 금액으로 구매할 수 있어 경제적이다.\n",
      " \n",
      "\n",
      "르꼬끄 스포르티브 나만의 컬러를 찾아주는 '프리즘 컬렉션 '출시\n",
      "르꼬끄 스포르티브(이하 르꼬끄)가 여름 시즌을 맞아 '여러 컬러들 속 너의 자신을 해방시켜봐'라는 의미의 프리즘(FREESM) 컬렉션을 선보인다.\n",
      "프리즘 컬렉션은 핫썸머 시즌에 팝하게 연출 할 수 있는 반팔 맨투맨 티셔츠로 이번 시즌 트랜드인 네온컬러가 돋보이는 제품으로 홀로그램 아트웍을 적용해 더운 날씨에도 가볍고 스트릿 스타일로 연출이 가능하며 중량감 있는 헤비웨스트 싱글 소재를 사용해 안정된 핏감을 제공한다. 루즈핏 스타일로 스커트와 팬츠들과 함께 감각적인 여름 데일리룩 연출이 가능하다.\n",
      "함께 출시된 네온 컬러의 힙색은 미니파우치가 포함되었으며 휴대폰등 가벼운 소지품 보관이 용이해 실용성과 함께 일상에서와 여행지에서 포인트 스타일링으로 연출할 수 있다.\n",
      " \n",
      "\n",
      "브이티코스메틱, 리피스틱 스페셜 & 러블리·큐트세트& 미니 리피 스틱 키트'출시\n",
      "브이티코스메틱은 6월 4일 'BT21ㅣVT 2ND EDITION에서 '리피 스틱 스페셜(LIPPY STICK SPECIAL)'컬러 8종과 한정판 세트 상품인 '리피 스틱 스페셜 에디션 세트러블리&큐트'·'미니 리피 스틱 키트'를 새롭게 출시한다고 밝혔다.\n",
      "이번 신제품 '리피 스틱 스페셜'은 지난해 선보였던 'BT21 리피 스틱'보다 한 단계 더 업그레이드 된 제품으로, '우주스타BT21'캐릭터들이 각각의 제품마다 매칭되어 있다. 회사 측에 따르면 해당 제품은 촉촉하게 녹아드는 컬러 레이어링랩핑 스틱으로, 선명한 발색과 크리미한사용감이 수채화 같이 맑은 색상을 연출해주며 오랜 시간 깨끗한 컬러를 유지시켜 준다.\n",
      "함께 출시되는 '리피 스틱 스페셜 에디션 세트러블리&큐트'는 특별 패키지에 담긴 한정판 세트 상품으로,각각 1호부터 4호까지 화사한 봄 분위기를 담아 사랑스러운 입술을 연출할 수 있는 컬러 4종과 과즙 컬러 가득 통통 튀는 귀엽고 생기있는 컬러들인 5호부터 8호까지 4가지 컬러로 이뤄진다.\n",
      " \n",
      "\n",
      "LG생활건강, '후 비첩 순환 에센스 스페셜 에디션' 선보여\n",
      "LG생활건강이 궁중 백자에 생기롭게 피어난 모란과 국화, 연꽃을 담은 디자인으로 궁중 예술작품의 아름다움을 느껴볼 수 있는 '후 비첩 순환 에센스 스페셜 에디션'을 출시했다.\n",
      "이번 스페셜 에디션은 국보 제114호 '청자상감국화모란문과형병'을 모티브로 삼아 맑고 청아하게 피어난 왕후의 아름다움을 표현했다. '청자상감국화모란문과형병'은 참외 모양의 긴 화병으로, 예로부터 부귀를 의미하는 모란, 품격을 뜻하는 국화, 청정함의 상징인 연꽃이 아름답게 새겨져 있다. \n",
      "'비첩 순환 에센스'는 공진비단 배양액과 해울환 등 궁중 비방 성분을 함유해 피부 순환을 도와주는 제품이다. 세안 후 첫 번째로 사용하면 좋은 첫 단계 에센스로, 아침 세안 후 얼굴을 산뜻하게 가꿔주고 저녁에는 하루 종일 지친 피부에 생기를 더해 준다.\n",
      " \n",
      "\n",
      "로지컬리스킨, 디펜스로직 '하이드로 멀티쉴드' 출시\n",
      "화장품 제조회사 스킨리버스랩의 고기능성 화장품 브랜드 '로지컬리스킨'은 하절기를 맞아 자외선 차단 및 미백에 도움을 주는 선 에센스 '하이드로 멀티쉴드'를 출시했다고 6월 4일 밝혔다.\n",
      "이번에 출시한 디펜스로직 '하이드로 멀티쉴드'는 자외선 차단 기능뿐만 아니라 미백, 주름개선에 도움을 주는 광노화 기능성 선 에센스로 촉촉하면서 산뜻한 사용감이 특징이다.\n",
      "스킨리버스랩은 '하이드로 멀티쉴드(40ml/29,300원)'출시를 기념해, 자사몰에서 오는 6월 30일까지 10% 할인 판매하고, 매일 선착순 구매고객 100명 대상 체험용 클렌징폼과 정품 마스크팩 무료 증정 행사를 진행한다. \n",
      " \n",
      "\n",
      "페리페라, 영롱한 광대빔 연출하는 '맑게 빛나는 플래쉬 치크' 출시\n",
      "클리오의 앙큼한 페리걸 메이크업 브랜드 페리페라가 영롱한 펄감으로 광대빔을 연출해주는 '맑게 빛나는 플래쉬 치크'를 출시했다.\n",
      "'맑게 빛나는 플래쉬 치크'는 텁텁한 느낌이나 모공 끼임 없이 맑은 발색을 선보이는 파우더 타입의 치크 신제품이다. '블루밍 포토 파우더'성분으로 어느 각도에서 보아도 영롱한 광대빔을 연출할 수 있으며, 높은 투명도의 다이아몬드 파우더 함유로 맑고 투명한 시스루발색을 선보인다. \n",
      "'맑게 빛나는 플래쉬 치크'는 곱게 말린 호박 베이지 컬러 ▲1호 햇볕에 말린 호박, 누구나 사용하기 쉬운 은은한 핑크 컬러 ▲2호 한 번 깨문 복숭아, 싱그러운 코랄빛 구아바 컬러 ▲3호 하루 한 조각 구아바, 잘 익은 무화과 MLBB 컬러 ▲4호 정성 들인 무화과 총 4컬러로 출시됐다.\n",
      " \n",
      "\n",
      "이니스프리, '포레스트 포맨 올인원 에센스' 리뉴얼 출시\n",
      "자연주의 화장품 브랜드 이니스프리가 대표 남성 제품인 '포레스트 포맨 올인원 에센스'를 6년 만에 리뉴얼 출시한다.\n",
      "'포레스트 포맨 올인원 에센스'는 여러 단계 바르기를 번거로워 하는 남성들을 위해 수분 공급부터 피부 고민 케어까지 남성 피부에 꼭 필요한 기능을 한 번에 담은 올인원 에센스다. 제주 곶자왈에서 유래한 블랙이스트(Black Yeast) 성분이 피부 보호막을 만들어 스트레스, 음주 등으로 약해진 피부를 가꿔준다.\n",
      "가장 가벼운 사용감의 ▲포어 케어는 펩타이드를 함유한 에센스가 모공과 번들거리는 유분을 케어해 피부를 매끈하고 산뜻하게 해준다.  ▲트러블 케어는 논코메도제닉 테스트를 완료하여 여드름성 피부도 사용 가능하고, 각질로 인한 트러블을 케어해 깨끗한 피부로 가꿔준다. \n",
      " \n",
      "\n",
      "솝퓨리 리치리치 샴푸바 리뉴얼 이벤트\n",
      "클렌징 전문 브랜드 솝퓨리가 리치리치 샴푸바 리뉴얼 출시를 앞두고 고객의 목소리를 듣는다.\n",
      "지난 해 출시한 리치리치 샴푸바는, 꿀 성분 함유로 두피와 모발에 풍부한 영양을 공급해 거칠어진 머릿결을 윤기 나게 케어해주는 고체샴푸이다. 그간의 구매 고객 리뷰를 비롯해, 리치리치 샴푸바에 대해 기대하는 점 등 고객들의 다양한 목소리를 담아 보다 더 좋은 제품으로 리뉴얼 할 계획이다.\n",
      "오는 6월 30일까지 솝퓨리 공식 홈페이지 Q&A 게시판이나, 이벤트 하단의 댓글로 의견을 남길 수 있으며, 소중한 의견을 남긴 고객 전원에게는 적립금 2천원을 지급하고, 참가한 고객 중 5명을 선발하여 솝퓨리 샴푸바 1종을 추가로 증정한다.\n",
      " \n",
      "\n",
      "리복, 예측 불가능의 힘 이끄는 '벡터 시티' 캠페인 전개!\n",
      "글로벌 피트니스 브랜드 리복이 새로운 클래식 캠페인 '벡터 시티(The Vector City)'전개와 함께 의류 라인 '벡터 시티 컬렉션(Vector City Collection)'을 출시한다고 6월 4일 밝혔다.\n",
      "'벡터 시티' 캠페인은 우리에게 익숙한 90년대 리복 클래식 무드에 현대적인 감각과 새로운 시각을 더해 리복만의 독창적인 비전을 제시한다. 대담하게 펼쳐지는 도심 속 스트리트 런웨이를 컨셉으로 이 시대의 가장 트렌디한 클래식 스타일을 보여준다.\n",
      "이번 캠페인은 '예측 불가능의 힘'이라는 브랜드 메시지를 토대로 리복 클래식의 헤리티지를 계승하는 것이 핵심이다. '예측 불가능의 힘'은 기존의 틀을 깨고 과감하게 앞으로 나아가자는 리복의 정신과 맞닿아 있으며, 리복은 APAC(ASIA & PACIFIC) 앰버서더 지코와 함께 메시지가 의미하는 바를 다양하게 표현하고 전파할 예정이다.\n",
      "(데일리팝=변은영 기자)\n"
     ]
    }
   ],
   "source": [
    "for i in lines:\n",
    "    print(i.text)"
   ]
  },
  {
   "cell_type": "markdown",
   "metadata": {},
   "source": [
    "## 신문사별로 형식차이가 크므로 저장단계에서부터 적절한 처리가 필요해 보임"
   ]
  },
  {
   "cell_type": "code",
   "execution_count": null,
   "metadata": {},
   "outputs": [],
   "source": []
  }
 ],
 "metadata": {
  "kernelspec": {
   "display_name": "Python 3",
   "language": "python",
   "name": "python3"
  },
  "language_info": {
   "codemirror_mode": {
    "name": "ipython",
    "version": 3
   },
   "file_extension": ".py",
   "mimetype": "text/x-python",
   "name": "python",
   "nbconvert_exporter": "python",
   "pygments_lexer": "ipython3",
   "version": "3.7.3"
  }
 },
 "nbformat": 4,
 "nbformat_minor": 2
}
