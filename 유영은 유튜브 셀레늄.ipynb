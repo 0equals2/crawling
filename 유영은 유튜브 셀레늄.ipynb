{
 "cells": [
  {
   "cell_type": "code",
   "execution_count": 11,
   "metadata": {
    "ExecuteTime": {
     "end_time": "2019-04-26T05:06:35.225617Z",
     "start_time": "2019-04-26T05:06:35.210017Z"
    }
   },
   "outputs": [],
   "source": [
    "from bs4 import BeautifulSoup \n",
    "from selenium import webdriver \n",
    "from selenium.webdriver.common.keys import Keys \n",
    "from datetime import datetime \n",
    "import pandas as pd \n",
    "import time \n",
    "import re"
   ]
  },
  {
   "cell_type": "code",
   "execution_count": 14,
   "metadata": {
    "ExecuteTime": {
     "end_time": "2019-04-26T07:52:19.330026Z",
     "start_time": "2019-04-26T07:52:19.321026Z"
    }
   },
   "outputs": [],
   "source": [
    "#딕셔너리에 각 링크에 해당하는 수집 데이터 저장\n",
    "#링크에 해당하는 댓글은 여럿이므로 두개로 나누어 만듦\n",
    "#링크는 txt파일로 따로 저장하여 불러온다.\n",
    "#각 링크의 정보를 크롤링하며 기존에 저장했는지 여부를 확인\n",
    "\n",
    "#유튜브에 키워드를 검색하여 나오는 정확도 상위 항목들을 순서대로 링크를 따온다.\n",
    "def youtube():\n",
    "    url=[]\n",
    "    for GL in GLOBAL:\n",
    "        driver.get(f'https:www.youtube.com/results?search_query=INNISFREE&gl={GL}')\n",
    "        num_page = 30\n",
    "        while num_page:\n",
    "            body=driver.find_element_by_css_selector(\"body\")\n",
    "            body.send_keys(Keys.PAGE_DOWN)\n",
    "            time.sleep(1)\n",
    "            num_page -= 1\n",
    "        lst=driver.find_elements_by_css_selector('#video-title')\n",
    "        for i in lst:\n",
    "            if i.get_attribute(\"href\") != None:\n",
    "                url.append(i.get_attribute(\"href\"))\n",
    "    url=list(set(url))\n",
    "    return url\n",
    "    \n",
    "\n",
    "#각 링크에 접속하여 타이틀, 조회수, 좋아요, 싫어요, 설명, 댓글을 크롤링한다.\n",
    "def getdata(url):\n",
    "    #최초 저장시 헤더를 넣기 위한 체크\n",
    "    data_dic={\n",
    "        'link':[],\n",
    "        'title':[],\n",
    "        'view':[],\n",
    "        'good':[],\n",
    "        'bad':[],\n",
    "        'description':[]\n",
    "    }\n",
    "    \n",
    "    comment={\n",
    "        'link':[],\n",
    "        'comment':[]\n",
    "    }\n",
    "    chk = False\n",
    "    for lnk in url:\n",
    "        driver.get(lnk)\n",
    "        num_page = 15\n",
    "        while num_page:\n",
    "            body=driver.find_element_by_css_selector(\"body\")\n",
    "            body.send_keys(Keys.PAGE_DOWN)\n",
    "            time.sleep(1)\n",
    "            num_page -= 1\n",
    "        data_dic['link'].append(lnk)\n",
    "        data_dic['title'].append(driver.find_element_by_css_selector('#container > h1 > yt-formatted-string').text)\n",
    "        data_dic['view'].append(driver.find_element_by_css_selector('#count > yt-view-count-renderer > span.view-count.style-scope.yt-view-count-renderer').text)\n",
    "        data_dic['good'].append(driver.find_element_by_css_selector('#top-level-buttons > ytd-toggle-button-renderer:nth-child(1)').text)\n",
    "        data_dic['bad'].append(driver.find_element_by_css_selector('#top-level-buttons > ytd-toggle-button-renderer:nth-child(2)').text)\n",
    "        data_dic['description'].append(driver.find_element_by_css_selector('#description > yt-formatted-string').text)\n",
    "        for i in driver.find_elements_by_css_selector('#content-text') :\n",
    "            comment['link'].append(lnk)\n",
    "            comment['comment'].append(i.text)\n",
    "\n",
    "        #딕셔너리에 넣은 정보를 데이터 프레임으로 변환\n",
    "        df = pd.DataFrame.from_dict(data_dic)\n",
    "        df2= pd.DataFrame.from_dict(comment)\n",
    "\n",
    "        if chk==False:\n",
    "            chk = True\n",
    "            df.columns = ['link','title','view','good','bad','description']\n",
    "            df2.columns = ['link', 'comment']\n",
    "            df.to_csv('저장.csv', index=False, encoding='utf-8-sig')\n",
    "            df2.to_csv('코멘트.csv', index=False, encoding='utf-8-sig')\n",
    "        else:\n",
    "            df.to_csv('저장.csv', index=False, encoding='utf-8-sig', mode='a', header=False )\n",
    "            df2.to_csv('코멘트.csv', index=False, encoding='utf-8-sig', mode='a', header=False)\n",
    "    print(\"수집 완료~!!!\")        "
   ]
  },
  {
   "cell_type": "code",
   "execution_count": null,
   "metadata": {},
   "outputs": [],
   "source": [
    "#웹드라이버 가동 (크롬드라이버)\n",
    "driver = webdriver.Chrome('chromedriver')\n",
    "#검색할 쿼리 리스트 작성\n",
    "GLOBAL=['VN','JP']\n",
    "url=youtube()\n",
    "getdata(url)"
   ]
  },
  {
   "cell_type": "code",
   "execution_count": 15,
   "metadata": {},
   "outputs": [],
   "source": [
    "df=pd.read_csv(\"저장.csv\", encoding='utf-8-sig',engine='python')\n",
    "df2=pd.read_csv(\"코멘트.csv\", encoding='utf-8-sig', engine='python')"
   ]
  },
  {
   "cell_type": "code",
   "execution_count": 13,
   "metadata": {
    "code_folding": [
     1
    ]
   },
   "outputs": [],
   "source": [
    "def videotag(keylst):\n",
    "    for lst in keylst:\n",
    "        search = driver.find_element_by_css_selector('input#search')\n",
    "        search.send_keys(lst)\n",
    "        search.send_keys(Keys.ENTER)\n",
    "        pagedown()\n",
    "        thumb_tag = driver.find_elements_by_css_selector('#title-wrapper > h3')\n",
    "        for j in range(len(thumb_tag)):\n",
    "            thumb_tag[j].click()\n",
    "            pagedown()\n",
    "            titlelst.append(driver.find_element_by_css_selector('#container > h1 > yt-formatted-string').text)\n",
    "            view.append(driver.find_element_by_css_selector('#count > yt-view-count-renderer > span.view-count.style-scope.yt-view-count-renderer').text)\n",
    "            good.append(driver.find_element_by_css_selector('#top-level-buttons > ytd-toggle-button-renderer:nth-child(1)').text)\n",
    "            bad.append(driver.find_element_by_css_selector('#top-level-buttons > ytd-toggle-button-renderer:nth-child(2)').text)\n",
    "            content.append(driver.find_element_by_css_selector('#description > yt-formatted-string').text)\n",
    "            for i in driver.find_elements_by_css_selector('#content-text') :\n",
    "                comment.append(i.text)\n",
    "            driver.back()\n",
    "            time.sleep(1)"
   ]
  },
  {
   "cell_type": "code",
   "execution_count": 12,
   "metadata": {
    "code_folding": [
     0
    ]
   },
   "outputs": [],
   "source": [
    "def pagedown():\n",
    "    num_page = 10\n",
    "    while num_page:\n",
    "        body=driver.find_element_by_css_selector(\"body\")\n",
    "        body.send_keys(Keys.PAGE_DOWN)\n",
    "        time.sleep(1)\n",
    "        num_page -= 1"
   ]
  },
  {
   "cell_type": "code",
   "execution_count": 49,
   "metadata": {
    "ExecuteTime": {
     "end_time": "2019-04-26T05:37:58.262026Z",
     "start_time": "2019-04-26T05:36:19.418026Z"
    }
   },
   "outputs": [],
   "source": [
    "#키워드 검색으로 나오는 동영상의 링크를 크롤링하여 파일로 저장\n",
    "youtube()\n",
    "file1 = open(\"cosmetic.txt\",\"w\")\n",
    "for line in data_dic['link']:\n",
    "    file1.writelines(line + '\\n')\n",
    "file1.close()"
   ]
  },
  {
   "cell_type": "code",
   "execution_count": 50,
   "metadata": {
    "ExecuteTime": {
     "end_time": "2019-04-26T05:37:58.266026Z",
     "start_time": "2019-04-26T05:37:58.263026Z"
    }
   },
   "outputs": [],
   "source": [
    "#파일로 저장한 동영상 링크를 불러오기\n",
    "file1 = open(\"cosmetic.txt\",\"r\")\n",
    "list1=[]\n",
    "while True:\n",
    "    l=file1.readline()\n",
    "    if l == \"\":\n",
    "        break\n",
    "    list1.append(l)\n",
    "file1.close()"
   ]
  },
  {
   "cell_type": "code",
   "execution_count": null,
   "metadata": {},
   "outputs": [],
   "source": []
  }
 ],
 "metadata": {
  "kernelspec": {
   "display_name": "Python 3",
   "language": "python",
   "name": "python3"
  },
  "language_info": {
   "codemirror_mode": {
    "name": "ipython",
    "version": 3
   },
   "file_extension": ".py",
   "mimetype": "text/x-python",
   "name": "python",
   "nbconvert_exporter": "python",
   "pygments_lexer": "ipython3",
   "version": "3.7.3"
  },
  "varInspector": {
   "cols": {
    "lenName": 16,
    "lenType": 16,
    "lenVar": 40
   },
   "kernels_config": {
    "python": {
     "delete_cmd_postfix": "",
     "delete_cmd_prefix": "del ",
     "library": "var_list.py",
     "varRefreshCmd": "print(var_dic_list())"
    },
    "r": {
     "delete_cmd_postfix": ") ",
     "delete_cmd_prefix": "rm(",
     "library": "var_list.r",
     "varRefreshCmd": "cat(var_dic_list()) "
    }
   },
   "types_to_exclude": [
    "module",
    "function",
    "builtin_function_or_method",
    "instance",
    "_Feature"
   ],
   "window_display": false
  }
 },
 "nbformat": 4,
 "nbformat_minor": 2
}
