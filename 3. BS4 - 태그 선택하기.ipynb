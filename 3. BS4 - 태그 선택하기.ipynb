{
 "cells": [
  {
   "cell_type": "markdown",
   "metadata": {},
   "source": [
    "# html 문서내의 태그 선택"
   ]
  },
  {
   "cell_type": "code",
   "execution_count": 1,
   "metadata": {},
   "outputs": [],
   "source": [
    "import bs4"
   ]
  },
  {
   "cell_type": "markdown",
   "metadata": {},
   "source": [
    "### find_all\n",
    "\n",
    "조건에 맞는 태그를 모두 가져온다."
   ]
  },
  {
   "cell_type": "code",
   "execution_count": 12,
   "metadata": {},
   "outputs": [],
   "source": [
    "html = '''\n",
    "        <html>\n",
    "            <body>\n",
    "                <p class='a1'>p 태그 1</p>\n",
    "                <p class='a2'>p 태그 2</p>\n",
    "                <p class='a1 a2'>p 태그 3</p>\n",
    "                <ul>\n",
    "                    <li class='a1'>항목1</li>\n",
    "                    <li class='a2'>항목2</li>\n",
    "                    <li class='a1 a2'>항목3</li>\n",
    "                </ul>\n",
    "            </body>\n",
    "        </html>\n",
    "       '''\n",
    "soup = bs4.BeautifulSoup(html, 'lxml')"
   ]
  },
  {
   "cell_type": "code",
   "execution_count": 8,
   "metadata": {},
   "outputs": [
    {
     "name": "stdout",
     "output_type": "stream",
     "text": [
      "[<p class=\"a1\">p 태그 1</p>, <p class=\"a2\">p 태그 2</p>, <p class=\"a1 a2\">p 태그 3</p>]\n",
      "[<li>항목1</li>, <li>항목2</li>, <li>항목3</li>]\n",
      "p 태그 1\n",
      "p 태그 2\n",
      "p 태그 3\n",
      "항목1\n",
      "항목2\n",
      "항목3\n"
     ]
    }
   ],
   "source": [
    "# p 태그 모두 가져오기\n",
    "p_list = soup.find_all('p')\n",
    "# li 태그 모두 가져오기\n",
    "li_list = soup.find_all('li')\n",
    "\n",
    "print(p_list)\n",
    "print(li_list)\n",
    "\n",
    "for p_tag in p_list :\n",
    "    print(p_tag.text)\n",
    "    \n",
    "for li_tag in li_list :\n",
    "    print(li_tag.text)"
   ]
  },
  {
   "cell_type": "code",
   "execution_count": 16,
   "metadata": {},
   "outputs": [
    {
     "name": "stdout",
     "output_type": "stream",
     "text": [
      "[<p class=\"a1\">p 태그 1</p>, <p class=\"a1 a2\">p 태그 3</p>]\n",
      "[<p class=\"a2\">p 태그 2</p>, <p class=\"a1 a2\">p 태그 3</p>]\n",
      "[<p class=\"a1\">p 태그 1</p>, <p class=\"a1 a2\">p 태그 3</p>, <li class=\"a1\">항목1</li>, <li class=\"a1 a2\">항목3</li>]\n",
      "[<p class=\"a2\">p 태그 2</p>, <p class=\"a1 a2\">p 태그 3</p>, <li class=\"a2\">항목2</li>, <li class=\"a1 a2\">항목3</li>]\n"
     ]
    }
   ],
   "source": [
    "# css(Cascade Style Sheet) class 사용하기\n",
    "# 디자이너가 디자인의 용이성을 위해 적용할 스타일\n",
    "# 값을 모아서 만들고 이를 class 속성에 적용하게 된다\n",
    "# 이를 이용해 원하는 태그에 접근할 수 있다.\n",
    "# 같은 css 클래스를 여러 태그에 적용했을 수도 있기\n",
    "# 때문에 원하지 않는 태그도 가져올 수 있다.\n",
    "\n",
    "# p태그 중에 class가 a1인 태그들을 가져온다.\n",
    "p_list = soup.find_all('p', class_='a1')\n",
    "print(p_list)\n",
    "\n",
    "# p 태그 중에 class가 a2인 태그들을 가져온다.\n",
    "# 처음에 태그 이름이 나왔을 경우 두 번째는 무조건]\n",
    "# class 속성 값이다.\n",
    "p_list2 = soup.find_all('p', 'a2')\n",
    "print(p_list2)\n",
    "\n",
    "# 태그에 관계 없이 class가 a1인 태그를 가져온다.\n",
    "a1_list = soup.find_all(class_='a1')\n",
    "print(a1_list)\n",
    "\n",
    "# 태그에 관계 없이 class가 a2인 태그를 가져온다.\n",
    "a2_list = soup.find_all(class_='a2')\n",
    "print(a2_list)"
   ]
  },
  {
   "cell_type": "markdown",
   "metadata": {},
   "source": [
    "### find\n",
    "\n",
    "조건에 맞는 태그 하나를 가져온다.\n",
    "\n",
    "만약 조건에 맞는 태그가 여러개라면 가장 위에 있는 태그 객체를 가져온다."
   ]
  },
  {
   "cell_type": "code",
   "execution_count": 25,
   "metadata": {},
   "outputs": [],
   "source": [
    "html = '''\n",
    "        <html>\n",
    "            <body>\n",
    "                <p class='a1' id='test1'>p 태그 1</p>\n",
    "                <p class='a1'>p 태그 2</p>\n",
    "                <p class='a2'>p 태그 3</p>\n",
    "            </body>            \n",
    "        </html>\n",
    "       '''\n",
    "soup = bs4.BeautifulSoup(html, 'lxml')"
   ]
  },
  {
   "cell_type": "code",
   "execution_count": 26,
   "metadata": {},
   "outputs": [
    {
     "name": "stdout",
     "output_type": "stream",
     "text": [
      "<p class=\"a1\" id=\"test1\">p 태그 1</p>\n",
      "<p class=\"a2\">p 태그 3</p>\n",
      "<p class=\"a1\" id=\"test1\">p 태그 1</p>\n",
      "<p class=\"a1\" id=\"test1\">p 태그 1</p>\n"
     ]
    }
   ],
   "source": [
    "p_tag = soup.find('p')\n",
    "print(p_tag)\n",
    "\n",
    "a2_class = soup.find(class_='a2')\n",
    "print(a2_class)\n",
    "\n",
    "a1_class = soup.find(class_='a1')\n",
    "print(a1_class)\n",
    "\n",
    "# id 속성 : HTML 문서 내에 동일한 값을 가지고 있는\n",
    "# id 속성은 두 개 이상 존재하는게 의미가 없다.\n",
    "# 개발자가 특정태그 하나를 지칭하기 위한 용도로 \n",
    "# 사용하는 속성\n",
    "# 동일 속성값을 가진 id 속성이 여러 태그에 존재할\n",
    "# 수도 있지만 첫 번째 태그 외의 태그는 접근할 수 \n",
    "# 있는 방법이 없다(JavaScript)\n",
    "test1_id = soup.find(id='test1')\n",
    "print(test1_id)"
   ]
  },
  {
   "cell_type": "code",
   "execution_count": 29,
   "metadata": {},
   "outputs": [
    {
     "name": "stdout",
     "output_type": "stream",
     "text": [
      "[]\n",
      "None\n"
     ]
    }
   ],
   "source": [
    "# 없는 태그를 가져온다.\n",
    "a_list = soup.find_all('a')\n",
    "print(a_list)\n",
    "\n",
    "kkk_id = soup.find(id='kkk')\n",
    "print(kkk_id)"
   ]
  },
  {
   "cell_type": "markdown",
   "metadata": {},
   "source": [
    "### select\n",
    "\n",
    "html에서 사용하는 selector 문법을 이용해 태그를 지칭하는 함수\n",
    "\n",
    "태그이름 : \"태그이름\"<br/>\n",
    "class 속성 : \".class속성\"<br/>\n",
    "id 속성 : \"#id속성\"<br/>"
   ]
  },
  {
   "cell_type": "code",
   "execution_count": 38,
   "metadata": {},
   "outputs": [],
   "source": [
    "html = '''\n",
    "        <p class='a1' id='test1'>p 태그 1</p>\n",
    "        <p class='a1'>p 태그 2</p>\n",
    "        <p class='a2'>p 태그 3</p>\n",
    "       '''\n",
    "soup = bs4.BeautifulSoup(html, 'lxml')"
   ]
  },
  {
   "cell_type": "code",
   "execution_count": 35,
   "metadata": {},
   "outputs": [
    {
     "name": "stdout",
     "output_type": "stream",
     "text": [
      "[<p class=\"a1\">p 태그 1</p>, <p class=\"a1\">p 태그 2</p>, <p class=\"a2\">p 태그 3</p>]\n",
      "[<p class=\"a1\">p 태그 1</p>, <p class=\"a1\">p 태그 2</p>, <p class=\"a2\">p 태그 3</p>]\n"
     ]
    }
   ],
   "source": [
    "# p 태그들을 가져온다.\n",
    "p_list1 = soup.find_all('p')\n",
    "print(p_list1)\n",
    "\n",
    "p_list2 = soup.select('p')\n",
    "print(p_list2)"
   ]
  },
  {
   "cell_type": "code",
   "execution_count": 37,
   "metadata": {},
   "outputs": [
    {
     "name": "stdout",
     "output_type": "stream",
     "text": [
      "[<p class=\"a1\">p 태그 1</p>, <p class=\"a1\">p 태그 2</p>]\n",
      "<p class=\"a2\">p 태그 3</p>\n",
      "[<p class=\"a1\">p 태그 1</p>, <p class=\"a1\">p 태그 2</p>]\n",
      "[<p class=\"a2\">p 태그 3</p>]\n"
     ]
    }
   ],
   "source": [
    "# class 속성\n",
    "a1_class1 = soup.find_all(class_='a1')\n",
    "a2_class1 = soup.find(class_='a2')\n",
    "print(a1_class1)\n",
    "print(a2_class1)\n",
    "\n",
    "a1_class2 = soup.select('.a1')\n",
    "a2_class2 = soup.select('.a2')\n",
    "print(a1_class2)\n",
    "print(a2_class2)"
   ]
  },
  {
   "cell_type": "code",
   "execution_count": 39,
   "metadata": {},
   "outputs": [
    {
     "name": "stdout",
     "output_type": "stream",
     "text": [
      "<p class=\"a1\" id=\"test1\">p 태그 1</p>\n",
      "[<p class=\"a1\" id=\"test1\">p 태그 1</p>]\n"
     ]
    }
   ],
   "source": [
    "# id 속성\n",
    "test1_id1 = soup.find(id='test1')\n",
    "print(test1_id1)\n",
    "\n",
    "test1_id2 = soup.select('#test1')\n",
    "print(test1_id2)"
   ]
  },
  {
   "cell_type": "code",
   "execution_count": 40,
   "metadata": {},
   "outputs": [],
   "source": [
    "html = '''\n",
    "        <div id='test1'>\n",
    "            <p>test1 내의 p 태그</p>\n",
    "        </div>\n",
    "        <div id='test2'>\n",
    "            <p>test2 내의 p 태그</p>\n",
    "        </div>\n",
    "       '''\n",
    "soup = bs4.BeautifulSoup(html, 'lxml')"
   ]
  },
  {
   "cell_type": "code",
   "execution_count": 41,
   "metadata": {},
   "outputs": [
    {
     "name": "stdout",
     "output_type": "stream",
     "text": [
      "test1 내의 p 태그\n",
      "test2 내의 p 태그\n"
     ]
    }
   ],
   "source": [
    "# id가 test1, test2인 태그를 가져온다.\n",
    "test1_tag = soup.find(id='test1')\n",
    "test2_tag = soup.find(id='test2')\n",
    "\n",
    "# 각 태그 내부의 p 태그를 가져온다.\n",
    "p_tag1 = test1_tag.find('p')\n",
    "p_tag2 = test2_tag.find('p')\n",
    "\n",
    "print(p_tag1.text)\n",
    "print(p_tag2.text)\n"
   ]
  },
  {
   "cell_type": "code",
   "execution_count": 43,
   "metadata": {},
   "outputs": [
    {
     "name": "stdout",
     "output_type": "stream",
     "text": [
      "test1 내의 p 태그\n",
      "test2 내의 p 태그\n"
     ]
    }
   ],
   "source": [
    "p_tag1 = soup.select('#test1 > p')[0].text\n",
    "p_tag2 = soup.select('#test2 > p')[0].text\n",
    "\n",
    "print(p_tag1)\n",
    "print(p_tag2)"
   ]
  },
  {
   "cell_type": "code",
   "execution_count": null,
   "metadata": {},
   "outputs": [],
   "source": []
  }
 ],
 "metadata": {
  "kernelspec": {
   "display_name": "Python 3",
   "language": "python",
   "name": "python3"
  },
  "language_info": {
   "codemirror_mode": {
    "name": "ipython",
    "version": 3
   },
   "file_extension": ".py",
   "mimetype": "text/x-python",
   "name": "python",
   "nbconvert_exporter": "python",
   "pygments_lexer": "ipython3",
   "version": "3.6.5"
  }
 },
 "nbformat": 4,
 "nbformat_minor": 2
}
