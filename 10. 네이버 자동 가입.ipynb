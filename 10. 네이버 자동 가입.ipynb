{
 "cells": [
  {
   "cell_type": "code",
   "execution_count": 11,
   "metadata": {},
   "outputs": [],
   "source": [
    "from selenium import webdriver\n",
    "from selenium.webdriver.support.ui import Select"
   ]
  },
  {
   "cell_type": "code",
   "execution_count": 2,
   "metadata": {},
   "outputs": [],
   "source": [
    "driver = webdriver.Chrome('chromedriver')\n",
    "driver.get('https://www.naver.com')"
   ]
  },
  {
   "cell_type": "code",
   "execution_count": 3,
   "metadata": {},
   "outputs": [],
   "source": [
    "a_tag = driver.find_element_by_css_selector('#account > div > div > a')\n",
    "# print(a_tag)\n",
    "a_tag.click()"
   ]
  },
  {
   "cell_type": "code",
   "execution_count": 4,
   "metadata": {},
   "outputs": [],
   "source": [
    "checkbox_tag = driver.find_element_by_css_selector('#join_form > div.terms_p > p > span > label')\n",
    "checkbox_tag.click()\n",
    "\n",
    "agree_btn = driver.find_element_by_css_selector('#btnAgree')\n",
    "agree_btn.click()"
   ]
  },
  {
   "cell_type": "code",
   "execution_count": 13,
   "metadata": {},
   "outputs": [],
   "source": [
    "driver.refresh()\n",
    "\n",
    "input_id = driver.find_element_by_css_selector('#id')\n",
    "input_id.send_keys('opiwejrojwpo')\n",
    "\n",
    "input_pswd1 = driver.find_element_by_css_selector('#pswd1')\n",
    "input_pswd1.send_keys('Abc123zzz!!')\n",
    "\n",
    "input_pswd2 = driver.find_element_by_css_selector('#pswd2')\n",
    "input_pswd2.send_keys('Abc123zzz!!')\n",
    "\n",
    "input_name = driver.find_element_by_css_selector('#name')\n",
    "input_name.send_keys('윤재성')\n",
    "\n",
    "input_yy = driver.find_element_by_css_selector('#yy')\n",
    "input_yy.send_keys('1978')\n",
    "\n",
    "input_mm = driver.find_element_by_css_selector('#mm')\n",
    "select_tag = Select(input_mm)\n",
    "select_tag.select_by_value('12')\n",
    "\n",
    "input_dd = driver.find_element_by_css_selector('#dd')\n",
    "input_dd.send_keys('17')\n",
    "\n",
    "input_gender = driver.find_element_by_css_selector('#gender')\n",
    "select_tag2 = Select(input_gender)\n",
    "select_tag2.select_by_value('0')\n",
    "\n",
    "input_phoneNo = driver.find_element_by_css_selector('#phoneNo')\n",
    "input_phoneNo.send_keys('01043950924')\n",
    "\n",
    "btn_send = driver.find_element_by_css_selector('#btnSend')\n",
    "btn_send.click()\n",
    "\n",
    "sms_code = input('인증번호를 입력해주세요')\n",
    "\n",
    "auth_no = driver.find_element_by_css_selector('#authNo')\n",
    "auth_no.send_keys(sms_code)\n",
    "\n",
    "btn_join = driver.find_element_by_css_selector('#btnJoin')\n",
    "btn_join.click()"
   ]
  },
  {
   "cell_type": "code",
   "execution_count": null,
   "metadata": {},
   "outputs": [],
   "source": []
  }
 ],
 "metadata": {
  "kernelspec": {
   "display_name": "Python 3",
   "language": "python",
   "name": "python3"
  },
  "language_info": {
   "codemirror_mode": {
    "name": "ipython",
    "version": 3
   },
   "file_extension": ".py",
   "mimetype": "text/x-python",
   "name": "python",
   "nbconvert_exporter": "python",
   "pygments_lexer": "ipython3",
   "version": "3.6.5"
  }
 },
 "nbformat": 4,
 "nbformat_minor": 2
}
