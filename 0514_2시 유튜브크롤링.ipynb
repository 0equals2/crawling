{
 "cells": [
  {
   "cell_type": "code",
   "execution_count": 4,
   "metadata": {
    "scrolled": true
   },
   "outputs": [
    {
     "name": "stdout",
     "output_type": "stream",
     "text": [
      "Collecting selenium\n",
      "  Downloading https://files.pythonhosted.org/packages/80/d6/4294f0b4bce4de0abf13e17190289f9d0613b0a44e5dd6a7f5ca98459853/selenium-3.141.0-py2.py3-none-any.whl (904kB)\n",
      "Requirement already satisfied: urllib3 in c:\\programdata\\anaconda3\\lib\\site-packages (from selenium) (1.22)\n",
      "Installing collected packages: selenium\n",
      "Successfully installed selenium-3.141.0\n"
     ]
    },
    {
     "name": "stderr",
     "output_type": "stream",
     "text": [
      "distributed 1.21.8 requires msgpack, which is not installed.\n",
      "You are using pip version 10.0.1, however version 19.1.1 is available.\n",
      "You should consider upgrading via the 'python -m pip install --upgrade pip' command.\n"
     ]
    }
   ],
   "source": [
    "!pip install selenium"
   ]
  },
  {
   "cell_type": "code",
   "execution_count": 5,
   "metadata": {
    "ExecuteTime": {
     "end_time": "2019-05-13T02:20:15.459204Z",
     "start_time": "2019-05-13T02:20:12.978204Z"
    }
   },
   "outputs": [],
   "source": [
    "from bs4 import BeautifulSoup \n",
    "from selenium import webdriver \n",
    "from selenium.webdriver.common.keys import Keys \n",
    "from datetime import datetime \n",
    "import pandas as pd \n",
    "import time \n",
    "import re\n",
    "from selenium.common.exceptions import NoSuchElementException"
   ]
  },
  {
   "cell_type": "code",
   "execution_count": 1,
   "metadata": {
    "ExecuteTime": {
     "end_time": "2019-05-14T05:22:08.097009Z",
     "start_time": "2019-05-14T05:22:08.087009Z"
    }
   },
   "outputs": [],
   "source": [
    "#파일로 저장한 동영상 링크를 불러오기\n",
    "file1 = open(\"url2 (1).txt\",\"r\")\n",
    "url=[]\n",
    "while True:\n",
    "    l=file1.readline()\n",
    "    if l == \"\":\n",
    "        break\n",
    "    url.append(l)\n",
    "file1.close()"
   ]
  },
  {
   "cell_type": "code",
   "execution_count": 6,
   "metadata": {
    "ExecuteTime": {
     "end_time": "2019-05-14T05:22:48.618009Z",
     "start_time": "2019-05-14T05:22:48.609009Z"
    }
   },
   "outputs": [],
   "source": [
    "n_url=[]\n",
    "for i in url:\n",
    "    i= re.sub(\"\\n\",\"\",i)\n",
    "    n_url.append(i)"
   ]
  },
  {
   "cell_type": "markdown",
   "metadata": {},
   "source": [
    "유튜브 환경 특성상 bs4 혹은 API를 사용하기 어려워 selenium을 활용"
   ]
  },
  {
   "cell_type": "code",
   "execution_count": 179,
   "metadata": {
    "ExecuteTime": {
     "end_time": "2019-05-08T05:59:05.959222Z",
     "start_time": "2019-05-08T05:59:05.938222Z"
    },
    "scrolled": true
   },
   "outputs": [
    {
     "data": {
      "text/html": [
       "<div>\n",
       "<style scoped>\n",
       "    .dataframe tbody tr th:only-of-type {\n",
       "        vertical-align: middle;\n",
       "    }\n",
       "\n",
       "    .dataframe tbody tr th {\n",
       "        vertical-align: top;\n",
       "    }\n",
       "\n",
       "    .dataframe thead th {\n",
       "        text-align: right;\n",
       "    }\n",
       "</style>\n",
       "<table border=\"1\" class=\"dataframe\">\n",
       "  <thead>\n",
       "    <tr style=\"text-align: right;\">\n",
       "      <th></th>\n",
       "      <th>link</th>\n",
       "      <th>title</th>\n",
       "      <th>view</th>\n",
       "      <th>good</th>\n",
       "      <th>bad</th>\n",
       "      <th>description</th>\n",
       "      <th>date</th>\n",
       "      <th>number of comment</th>\n",
       "    </tr>\n",
       "  </thead>\n",
       "  <tbody>\n",
       "    <tr>\n",
       "      <th>0</th>\n",
       "      <td>https://www.youtube.com/watch?v=A-Qa8Uyg4XY</td>\n",
       "      <td>One Brand Makeup Tutorial INNISFREE (Eng&amp; Baha...</td>\n",
       "      <td>조회수 269,429회</td>\n",
       "      <td>5.3천</td>\n",
       "      <td>56</td>\n",
       "      <td>Hi guys, I'm back with another tutorial video....</td>\n",
       "      <td>게시일: 2016. 7. 6.</td>\n",
       "      <td>댓글 113개</td>\n",
       "    </tr>\n",
       "    <tr>\n",
       "      <th>1</th>\n",
       "      <td>https://www.youtube.com/watch?v=XfQN-VY5vk8</td>\n",
       "      <td>[TESTERKOREA] INNISFREE The Green Tea Seed Oil</td>\n",
       "      <td>조회수 12,161회</td>\n",
       "      <td>62</td>\n",
       "      <td>10</td>\n",
       "      <td>INNISFREE The Green Tea Seed Oil 30ml\\n\\nhttp:...</td>\n",
       "      <td>게시일: 2016. 10. 27.</td>\n",
       "      <td>댓글 3개</td>\n",
       "    </tr>\n",
       "    <tr>\n",
       "      <th>2</th>\n",
       "      <td>https://www.youtube.com/watch?v=c-55rPMdxRw</td>\n",
       "      <td>Does it work? Innisfree Wine Jelly Softner - H...</td>\n",
       "      <td>조회수 17,604회</td>\n",
       "      <td>120</td>\n",
       "      <td>67</td>\n",
       "      <td>Subscribe for Videos every week: ▶https://www....</td>\n",
       "      <td>게시일: 2017. 3. 25.</td>\n",
       "      <td>댓글 59개</td>\n",
       "    </tr>\n",
       "    <tr>\n",
       "      <th>3</th>\n",
       "      <td>https://www.youtube.com/watch?v=HOuuzVz1T2A</td>\n",
       "      <td>[이응] 이니스프리 마이 블러셔, 마이 아이섀도우 리뷰</td>\n",
       "      <td>조회수 62,961회</td>\n",
       "      <td>418</td>\n",
       "      <td>65</td>\n",
       "      <td>오늘은 이니스프리 멤버쉽데이에 구매했던 화장품들을 소개해드릴거에요!! 아주아주 퀄리...</td>\n",
       "      <td>게시일: 2017. 5. 28.</td>\n",
       "      <td>댓글 146개</td>\n",
       "    </tr>\n",
       "    <tr>\n",
       "      <th>4</th>\n",
       "      <td>https://www.youtube.com/watch?v=YL1-3bvwn64</td>\n",
       "      <td>여자친구(GFriend)'s Sowon and Yerin 이니스프리(Innisfre...</td>\n",
       "      <td>조회수 1,088회</td>\n",
       "      <td>75</td>\n",
       "      <td>1</td>\n",
       "      <td>▶CLICK HERE FOR MORE KOREAN CFs WITH YOUR FAVO...</td>\n",
       "      <td>게시일: 2019. 4. 27.</td>\n",
       "      <td>댓글 1개</td>\n",
       "    </tr>\n",
       "    <tr>\n",
       "      <th>5</th>\n",
       "      <td>https://www.youtube.com/watch?v=l_H6CsOCZ_8</td>\n",
       "      <td>Lần Đầu Tiên Đến Innisfree Hà Nội ♡ Innisfree ...</td>\n",
       "      <td>조회수 278,069회</td>\n",
       "      <td>8.7천</td>\n",
       "      <td>112</td>\n",
       "      <td>Yeah!!!! Không ai đánh thuế giấc mơ nên chúng ...</td>\n",
       "      <td>게시일: 2018. 7. 4.</td>\n",
       "      <td>댓글 4,799개</td>\n",
       "    </tr>\n",
       "    <tr>\n",
       "      <th>6</th>\n",
       "      <td>https://www.youtube.com/watch?v=xzSZjzTHusI</td>\n",
       "      <td>INNISFREE MAKEUP REVIEW | Korean One Brand Mak...</td>\n",
       "      <td>조회수 176,970회</td>\n",
       "      <td>2.5천</td>\n",
       "      <td>58</td>\n",
       "      <td>Another Korean One Brand Tutorial... this week...</td>\n",
       "      <td>게시일: 2016. 5. 4.</td>\n",
       "      <td>댓글 178개</td>\n",
       "    </tr>\n",
       "    <tr>\n",
       "      <th>7</th>\n",
       "      <td>https://www.youtube.com/watch?v=JyWtEgMy1Cc</td>\n",
       "      <td>Spring warm-tone makeup with innisfree (With s...</td>\n",
       "      <td>조회수 878,024회</td>\n",
       "      <td>1.9만</td>\n",
       "      <td>260</td>\n",
       "      <td>* 본 영상은 이니스프리 마이 팔레트와 함께 합니다. *\\n\\n \\n\\nPerson...</td>\n",
       "      <td>게시일: 2018. 3. 1.</td>\n",
       "      <td>댓글 544개</td>\n",
       "    </tr>\n",
       "    <tr>\n",
       "      <th>8</th>\n",
       "      <td>https://www.youtube.com/watch?v=quY34p7fm18</td>\n",
       "      <td>[EDITOR REVIEW &amp; HOW-TO] Innisfree Jeju Volcan...</td>\n",
       "      <td>조회수 54,651회</td>\n",
       "      <td>350</td>\n",
       "      <td>20</td>\n",
       "      <td>Full Review: https://kbeautynow.com/2016/06/10...</td>\n",
       "      <td>게시일: 2016. 6. 9.</td>\n",
       "      <td>댓글 23개</td>\n",
       "    </tr>\n",
       "  </tbody>\n",
       "</table>\n",
       "</div>"
      ],
      "text/plain": [
       "                                          link  \\\n",
       "0  https://www.youtube.com/watch?v=A-Qa8Uyg4XY   \n",
       "1  https://www.youtube.com/watch?v=XfQN-VY5vk8   \n",
       "2  https://www.youtube.com/watch?v=c-55rPMdxRw   \n",
       "3  https://www.youtube.com/watch?v=HOuuzVz1T2A   \n",
       "4  https://www.youtube.com/watch?v=YL1-3bvwn64   \n",
       "5  https://www.youtube.com/watch?v=l_H6CsOCZ_8   \n",
       "6  https://www.youtube.com/watch?v=xzSZjzTHusI   \n",
       "7  https://www.youtube.com/watch?v=JyWtEgMy1Cc   \n",
       "8  https://www.youtube.com/watch?v=quY34p7fm18   \n",
       "\n",
       "                                               title          view  good  bad  \\\n",
       "0  One Brand Makeup Tutorial INNISFREE (Eng& Baha...  조회수 269,429회  5.3천   56   \n",
       "1     [TESTERKOREA] INNISFREE The Green Tea Seed Oil   조회수 12,161회    62   10   \n",
       "2  Does it work? Innisfree Wine Jelly Softner - H...   조회수 17,604회   120   67   \n",
       "3                     [이응] 이니스프리 마이 블러셔, 마이 아이섀도우 리뷰   조회수 62,961회   418   65   \n",
       "4  여자친구(GFriend)'s Sowon and Yerin 이니스프리(Innisfre...    조회수 1,088회    75    1   \n",
       "5  Lần Đầu Tiên Đến Innisfree Hà Nội ♡ Innisfree ...  조회수 278,069회  8.7천  112   \n",
       "6  INNISFREE MAKEUP REVIEW | Korean One Brand Mak...  조회수 176,970회  2.5천   58   \n",
       "7  Spring warm-tone makeup with innisfree (With s...  조회수 878,024회  1.9만  260   \n",
       "8  [EDITOR REVIEW & HOW-TO] Innisfree Jeju Volcan...   조회수 54,651회   350   20   \n",
       "\n",
       "                                         description                date  \\\n",
       "0  Hi guys, I'm back with another tutorial video....    게시일: 2016. 7. 6.   \n",
       "1  INNISFREE The Green Tea Seed Oil 30ml\\n\\nhttp:...  게시일: 2016. 10. 27.   \n",
       "2  Subscribe for Videos every week: ▶https://www....   게시일: 2017. 3. 25.   \n",
       "3  오늘은 이니스프리 멤버쉽데이에 구매했던 화장품들을 소개해드릴거에요!! 아주아주 퀄리...   게시일: 2017. 5. 28.   \n",
       "4  ▶CLICK HERE FOR MORE KOREAN CFs WITH YOUR FAVO...   게시일: 2019. 4. 27.   \n",
       "5  Yeah!!!! Không ai đánh thuế giấc mơ nên chúng ...    게시일: 2018. 7. 4.   \n",
       "6  Another Korean One Brand Tutorial... this week...    게시일: 2016. 5. 4.   \n",
       "7  * 본 영상은 이니스프리 마이 팔레트와 함께 합니다. *\\n\\n \\n\\nPerson...    게시일: 2018. 3. 1.   \n",
       "8  Full Review: https://kbeautynow.com/2016/06/10...    게시일: 2016. 6. 9.   \n",
       "\n",
       "  number of comment  \n",
       "0           댓글 113개  \n",
       "1             댓글 3개  \n",
       "2            댓글 59개  \n",
       "3           댓글 146개  \n",
       "4             댓글 1개  \n",
       "5         댓글 4,799개  \n",
       "6           댓글 178개  \n",
       "7           댓글 544개  \n",
       "8            댓글 23개  "
      ]
     },
     "execution_count": 179,
     "metadata": {},
     "output_type": "execute_result"
    }
   ],
   "source": [
    "#최초 저장시 헤더를 넣기 위한 체크\n",
    "data_dic={\n",
    "    'link':[],\n",
    "    'title':[],\n",
    "    'view':[],\n",
    "    'good':[],\n",
    "    'bad':[],\n",
    "    'description':[],\n",
    "    'date':[],\n",
    "    'number of comment':[]\n",
    "}\n",
    "\n",
    "comment={\n",
    "    'link':[],\n",
    "    'comment':[],\n",
    "    'date':[],\n",
    "    'comment date':[]\n",
    "}\n",
    "driver = webdriver.Chrome('chromedriver')\n",
    "for lnk in n_url:\n",
    "    driver.get(lnk)\n",
    "    num_page = 50\n",
    "    while num_page:\n",
    "        body=driver.find_element_by_css_selector(\"body\")\n",
    "        body.send_keys(Keys.PAGE_DOWN)\n",
    "        time.sleep(1)\n",
    "        num_page -= 1\n",
    "    time.sleep(1)\n",
    "    data_dic['link'].append(lnk)\n",
    "    data_dic['title'].append(driver.find_element_by_css_selector('#container > h1 > yt-formatted-string').text)\n",
    "    data_dic['view'].append(driver.find_element_by_css_selector('#count > yt-view-count-renderer > span.view-count.style-scope.yt-view-count-renderer').text)\n",
    "    data_dic['good'].append(driver.find_element_by_css_selector('#top-level-buttons > ytd-toggle-button-renderer:nth-child(1)').text)\n",
    "    data_dic['bad'].append(driver.find_element_by_css_selector('#top-level-buttons > ytd-toggle-button-renderer:nth-child(2)').text)\n",
    "    data_dic['description'].append(driver.find_element_by_css_selector('#description > yt-formatted-string').text)\n",
    "    data_dic['date'].append(driver.find_element_by_css_selector('#upload-info > span').text)\n",
    "    try:\n",
    "        numco=driver.find_element_by_css_selector('#count > yt-formatted-string').text\n",
    "        data_dic['number of comment'].append(numco)\n",
    "    except NoSuchElementException:\n",
    "        data_dic['number of comment'].append('0')\n",
    "    for i in driver.find_elements_by_css_selector('#content-text') :\n",
    "        comment['link'].append(lnk)\n",
    "        try:\n",
    "            comment['comment'].append(i.text)\n",
    "        except NoSuchElementException:\n",
    "            comment['comment'].append(\"\")\n",
    "    for j in driver.find_elements_by_css_selector('#header-author > yt-formatted-string > a'):\n",
    "        comment['date'].append(driver.find_element_by_css_selector('#upload-info > span').text)\n",
    "        try:\n",
    "            comment['comment date'].append(j.text)\n",
    "        except NoSuchElementException:\n",
    "            comment['comment date'].append('NA')\n",
    "#딕셔너리에 넣은 정보를 데이터 프레임으로 변환\n",
    "df = pd.DataFrame.from_dict(data_dic)\n",
    "df2= pd.DataFrame.from_dict(comment)\n",
    "\n",
    "df.columns = ['link','title','view','good','bad','description','date','number of comment']\n",
    "df2.columns = ['link', 'comment','comment date','date']\n",
    "df.to_csv('190513_data.csv', index=False, encoding='utf-8-sig')\n",
    "df2.to_csv('190513_comment.csv', index=False, encoding='utf-8-sig')\n",
    "print(\"수집 완료~!!!\")"
   ]
  },
  {
   "cell_type": "markdown",
   "metadata": {},
   "source": [
    "간단한 전처리"
   ]
  },
  {
   "cell_type": "code",
   "execution_count": 122,
   "metadata": {
    "ExecuteTime": {
     "end_time": "2019-05-02T07:04:46.691760Z",
     "start_time": "2019-05-02T07:04:46.598760Z"
    },
    "scrolled": true
   },
   "outputs": [
    {
     "data": {
      "text/plain": [
       "0       1167633\n",
       "1         40214\n",
       "2         58448\n",
       "3        145379\n",
       "4         46199\n",
       "5        171300\n",
       "6        143075\n",
       "7        531520\n",
       "8         20188\n",
       "9          1090\n",
       "10      1532243\n",
       "11       135222\n",
       "12        20298\n",
       "13       551846\n",
       "14       307474\n",
       "15       210640\n",
       "16        51737\n",
       "17       102606\n",
       "18       143881\n",
       "19        42900\n",
       "20         7107\n",
       "21        40856\n",
       "22        29642\n",
       "23        14333\n",
       "24        15881\n",
       "25        43762\n",
       "26        69760\n",
       "27        13213\n",
       "28       161809\n",
       "29       102569\n",
       "         ...   \n",
       "224      125593\n",
       "225      268926\n",
       "226       11671\n",
       "227      169950\n",
       "228       30457\n",
       "229      304873\n",
       "230      490831\n",
       "231       27716\n",
       "232      162174\n",
       "233       12117\n",
       "234      131321\n",
       "235      876853\n",
       "236     1067080\n",
       "237      183365\n",
       "238       69027\n",
       "239       32480\n",
       "240        5165\n",
       "241      117450\n",
       "242       94205\n",
       "243        2830\n",
       "244       56228\n",
       "245       57667\n",
       "246        9888\n",
       "247       48487\n",
       "248       12669\n",
       "249       43884\n",
       "250      146187\n",
       "251      178175\n",
       "252      231789\n",
       "253       14305\n",
       "Name: view, Length: 254, dtype: object"
      ]
     },
     "execution_count": 122,
     "metadata": {},
     "output_type": "execute_result"
    }
   ],
   "source": [
    "for i in range(df.shape[0]):\n",
    "    df['view'][i]=re.sub('조회수', '', df['view'][i])\n",
    "    df['view'][i]=re.sub('회', '', df['view'][i])\n",
    "    df['view'][i]=re.sub(',', '', df['view'][i])\n",
    "df['view']"
   ]
  },
  {
   "cell_type": "code",
   "execution_count": 123,
   "metadata": {
    "ExecuteTime": {
     "end_time": "2019-05-02T07:04:53.226760Z",
     "start_time": "2019-05-02T07:04:53.217760Z"
    }
   },
   "outputs": [
    {
     "name": "stdout",
     "output_type": "stream",
     "text": [
      "3\n",
      "0\n"
     ]
    }
   ],
   "source": [
    "#str 좋아요 확인\n",
    "print(sum((df['good']=='좋아요')*1))\n",
    "print(sum((df['good']==0)*1))"
   ]
  },
  {
   "cell_type": "code",
   "execution_count": 124,
   "metadata": {
    "ExecuteTime": {
     "end_time": "2019-05-02T07:04:57.117760Z",
     "start_time": "2019-05-02T07:04:57.084760Z"
    }
   },
   "outputs": [],
   "source": [
    "goodnum=[]\n",
    "for i in range(df.shape[0]):\n",
    "    if df['good'][i][-1] == '천':\n",
    "        goodnum.append(int(float(df['good'][i][:-1])*1000))\n",
    "    elif df['good'][i][-1] == '만':\n",
    "        goodnum.append(int(float(df['good'][i][:-1])*10000))\n",
    "    elif df['good'][i] == '좋아요':\n",
    "        goodnum.append(0)\n",
    "    else:\n",
    "        goodnum.append(int(df['good'][i]))\n",
    "df['good']=goodnum"
   ]
  },
  {
   "cell_type": "code",
   "execution_count": 8,
   "metadata": {
    "ExecuteTime": {
     "end_time": "2019-05-13T02:41:54.508405Z",
     "start_time": "2019-05-13T02:41:54.479405Z"
    },
    "pycharm": {
     "name": "#%%\n"
    }
   },
   "outputs": [],
   "source": [
    "#키워드 검색으로 나오는 동영상의 링크를 크롤링하여 파일로 저장\n",
    "file1 = open(\"url.txt\",\"w\")\n",
    "for line in url:\n",
    "    file1.writelines(line + '\\n')\n",
    "file1.close()"
   ]
  },
  {
   "cell_type": "code",
   "execution_count": null,
   "outputs": [],
   "source": [],
   "metadata": {
    "collapsed": false,
    "pycharm": {
     "name": "#%%"
    }
   }
  }
 ],
 "metadata": {
  "kernelspec": {
   "display_name": "Python 3",
   "language": "python",
   "name": "python3"
  },
  "language_info": {
   "codemirror_mode": {
    "name": "ipython",
    "version": 3
   },
   "file_extension": ".py",
   "mimetype": "text/x-python",
   "name": "python",
   "nbconvert_exporter": "python",
   "pygments_lexer": "ipython3",
   "version": "3.7.3"
  },
  "varInspector": {
   "cols": {
    "lenName": 16,
    "lenType": 16,
    "lenVar": 40
   },
   "kernels_config": {
    "python": {
     "delete_cmd_postfix": "",
     "delete_cmd_prefix": "del ",
     "library": "var_list.py",
     "varRefreshCmd": "print(var_dic_list())"
    },
    "r": {
     "delete_cmd_postfix": ") ",
     "delete_cmd_prefix": "rm(",
     "library": "var_list.r",
     "varRefreshCmd": "cat(var_dic_list()) "
    }
   },
   "types_to_exclude": [
    "module",
    "function",
    "builtin_function_or_method",
    "instance",
    "_Feature"
   ],
   "window_display": false
  },
  "pycharm": {
   "stem_cell": {
    "cell_type": "raw",
    "source": [],
    "metadata": {
     "collapsed": false
    }
   }
  }
 },
 "nbformat": 4,
 "nbformat_minor": 2
}