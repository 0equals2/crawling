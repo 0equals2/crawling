{
 "cells": [
  {
   "cell_type": "code",
   "execution_count": 2,
   "metadata": {},
   "outputs": [],
   "source": [
    "import requests\n",
    "import bs4\n",
    "from selenium import webdriver"
   ]
  },
  {
   "cell_type": "code",
   "execution_count": 3,
   "metadata": {},
   "outputs": [],
   "source": [
    "# 요청할 주소\n",
    "url = 'http://www.softcampus.co.kr/test100.jsp'"
   ]
  },
  {
   "cell_type": "code",
   "execution_count": 5,
   "metadata": {},
   "outputs": [
    {
     "name": "stdout",
     "output_type": "stream",
     "text": [
      "[]\n",
      "\n",
      "<!doctype html>\n",
      "<html lang=\"en\">\n",
      " <head>\n",
      "  <title>Document</title>\n",
      "  <meta charset=\"utf-8\"/>\n",
      "  <script>\n",
      "\t\twindow.onload = function(){\n",
      "\t\t\tvar result = document.getElementById(\"result\");\n",
      "\n",
      "\t\t\tresult.innerHTML = \"<p id='test'>id test p 태그</p>\"\n",
      "\t\t}\n",
      "  </script>\n",
      " </head>\n",
      " <body>\n",
      "\t<div id=\"result\"></div>\n",
      " </body>\n",
      "</html>\n",
      "\n",
      "\n"
     ]
    }
   ],
   "source": [
    "# requests + bs4\n",
    "response = requests.get(url)\n",
    "soup = bs4.BeautifulSoup(response.text, 'lxml')\n",
    "# 서버로 부터 받은 응답결과에는 id가 test은 태그가 없다.\n",
    "tag_test = soup.select('#test')\n",
    "print(tag_test)\n",
    "print(response.text)"
   ]
  },
  {
   "cell_type": "code",
   "execution_count": 7,
   "metadata": {},
   "outputs": [
    {
     "name": "stdout",
     "output_type": "stream",
     "text": [
      "<selenium.webdriver.remote.webelement.WebElement (session=\"aea0956c309fa4de184674359c411111\", element=\"0.9838974848454065-1\")>\n",
      "id test p 태그\n"
     ]
    }
   ],
   "source": [
    "# selenium\n",
    "driver = webdriver.Chrome('chromedriver')\n",
    "driver.get(url)\n",
    "\n",
    "test_tag = driver.find_element_by_id('test')\n",
    "print(test_tag)\n",
    "print(test_tag.text)"
   ]
  },
  {
   "cell_type": "code",
   "execution_count": 13,
   "metadata": {},
   "outputs": [
    {
     "name": "stdout",
     "output_type": "stream",
     "text": [
      "id test p 태그\n"
     ]
    }
   ],
   "source": [
    "# selenium + bs4\n",
    "driver = webdriver.Chrome('chromedriver')\n",
    "driver.get('http://www.softcampus.co.kr/test100.jsp')\n",
    "html = driver.page_source\n",
    "# print(html)\n",
    "soup = bs4.BeautifulSoup(driver.page_source, 'lxml')\n",
    "test_tag = soup.select('#test')[0]\n",
    "print(test_tag.text)"
   ]
  },
  {
   "cell_type": "code",
   "execution_count": null,
   "metadata": {},
   "outputs": [],
   "source": []
  }
 ],
 "metadata": {
  "kernelspec": {
   "display_name": "Python 3",
   "language": "python",
   "name": "python3"
  },
  "language_info": {
   "codemirror_mode": {
    "name": "ipython",
    "version": 3
   },
   "file_extension": ".py",
   "mimetype": "text/x-python",
   "name": "python",
   "nbconvert_exporter": "python",
   "pygments_lexer": "ipython3",
   "version": "3.6.5"
  }
 },
 "nbformat": 4,
 "nbformat_minor": 2
}
