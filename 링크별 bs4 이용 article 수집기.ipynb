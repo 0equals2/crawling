{
 "cells": [
  {
   "cell_type": "markdown",
   "metadata": {
    "toc": true
   },
   "source": [
    "<h1>Table of Contents<span class=\"tocSkip\"></span></h1>\n",
    "<div class=\"toc\"><ul class=\"toc-item\"></ul></div>"
   ]
  },
  {
   "cell_type": "code",
   "execution_count": 1,
   "metadata": {
    "ExecuteTime": {
     "end_time": "2019-09-19T02:37:14.318356Z",
     "start_time": "2019-09-19T02:37:09.494473Z"
    }
   },
   "outputs": [],
   "source": [
    "from bs4 import BeautifulSoup \n",
    "from selenium import webdriver\n",
    "from selenium.webdriver.common.keys import Keys \n",
    "from datetime import datetime \n",
    "import pandas as pd \n",
    "import time \n",
    "import re\n",
    "import math\n",
    "import requests"
   ]
  },
  {
   "cell_type": "code",
   "execution_count": 2,
   "metadata": {
    "ExecuteTime": {
     "end_time": "2019-09-19T02:37:18.701366Z",
     "start_time": "2019-09-19T02:37:15.189460Z"
    }
   },
   "outputs": [],
   "source": [
    "driver = webdriver.Chrome('chromedriver')"
   ]
  },
  {
   "cell_type": "code",
   "execution_count": 6,
   "metadata": {
    "ExecuteTime": {
     "end_time": "2019-09-19T06:49:58.757933Z",
     "start_time": "2019-09-19T06:49:58.602919Z"
    }
   },
   "outputs": [],
   "source": [
    "df = pd.read_csv('코리안리.csv', encoding= 'utf-8-sig', engine='python')"
   ]
  },
  {
   "cell_type": "code",
   "execution_count": 7,
   "metadata": {
    "ExecuteTime": {
     "end_time": "2019-09-19T06:50:00.455866Z",
     "start_time": "2019-09-19T06:50:00.446867Z"
    }
   },
   "outputs": [],
   "source": [
    "link = df['link']"
   ]
  },
  {
   "cell_type": "code",
   "execution_count": 8,
   "metadata": {
    "ExecuteTime": {
     "end_time": "2019-09-19T07:30:39.494186Z",
     "start_time": "2019-09-19T06:50:03.040789Z"
    },
    "scrolled": true
   },
   "outputs": [
    {
     "name": "stderr",
     "output_type": "stream",
     "text": [
      "Some characters could not be decoded, and were replaced with REPLACEMENT CHARACTER.\n",
      "Some characters could not be decoded, and were replaced with REPLACEMENT CHARACTER.\n",
      "Some characters could not be decoded, and were replaced with REPLACEMENT CHARACTER.\n",
      "Some characters could not be decoded, and were replaced with REPLACEMENT CHARACTER.\n",
      "Some characters could not be decoded, and were replaced with REPLACEMENT CHARACTER.\n",
      "Some characters could not be decoded, and were replaced with REPLACEMENT CHARACTER.\n",
      "Some characters could not be decoded, and were replaced with REPLACEMENT CHARACTER.\n",
      "Some characters could not be decoded, and were replaced with REPLACEMENT CHARACTER.\n",
      "Some characters could not be decoded, and were replaced with REPLACEMENT CHARACTER.\n",
      "Some characters could not be decoded, and were replaced with REPLACEMENT CHARACTER.\n",
      "Some characters could not be decoded, and were replaced with REPLACEMENT CHARACTER.\n",
      "Some characters could not be decoded, and were replaced with REPLACEMENT CHARACTER.\n",
      "Some characters could not be decoded, and were replaced with REPLACEMENT CHARACTER.\n",
      "Some characters could not be decoded, and were replaced with REPLACEMENT CHARACTER.\n",
      "Some characters could not be decoded, and were replaced with REPLACEMENT CHARACTER.\n",
      "Some characters could not be decoded, and were replaced with REPLACEMENT CHARACTER.\n",
      "Some characters could not be decoded, and were replaced with REPLACEMENT CHARACTER.\n",
      "Some characters could not be decoded, and were replaced with REPLACEMENT CHARACTER.\n",
      "Some characters could not be decoded, and were replaced with REPLACEMENT CHARACTER.\n",
      "Some characters could not be decoded, and were replaced with REPLACEMENT CHARACTER.\n",
      "Some characters could not be decoded, and were replaced with REPLACEMENT CHARACTER.\n",
      "Some characters could not be decoded, and were replaced with REPLACEMENT CHARACTER.\n",
      "Some characters could not be decoded, and were replaced with REPLACEMENT CHARACTER.\n",
      "Some characters could not be decoded, and were replaced with REPLACEMENT CHARACTER.\n",
      "Some characters could not be decoded, and were replaced with REPLACEMENT CHARACTER.\n",
      "Some characters could not be decoded, and were replaced with REPLACEMENT CHARACTER.\n",
      "Some characters could not be decoded, and were replaced with REPLACEMENT CHARACTER.\n",
      "Some characters could not be decoded, and were replaced with REPLACEMENT CHARACTER.\n",
      "Some characters could not be decoded, and were replaced with REPLACEMENT CHARACTER.\n",
      "Some characters could not be decoded, and were replaced with REPLACEMENT CHARACTER.\n",
      "Some characters could not be decoded, and were replaced with REPLACEMENT CHARACTER.\n",
      "Some characters could not be decoded, and were replaced with REPLACEMENT CHARACTER.\n",
      "Some characters could not be decoded, and were replaced with REPLACEMENT CHARACTER.\n",
      "Some characters could not be decoded, and were replaced with REPLACEMENT CHARACTER.\n",
      "Some characters could not be decoded, and were replaced with REPLACEMENT CHARACTER.\n",
      "Some characters could not be decoded, and were replaced with REPLACEMENT CHARACTER.\n"
     ]
    }
   ],
   "source": [
    "news={'link':[], 'content':[]} #한국경제 #아시아경제 #문화일보 #아주경제 불가\n",
    "for site in link:\n",
    "    text=''\n",
    "    try:\n",
    "        time.sleep(1)\n",
    "        response = requests.get(site)\n",
    "        soup = BeautifulSoup(response.content, 'html.parser', from_encoding='utf-8')\n",
    "        if 'chosun' in site: #조선일보\n",
    "            driver.get(site)\n",
    "            for num in range(3,9,2):\n",
    "                text += driver.find_element_by_css_selector(f'#news_body_id > div:nth-child({num})').text\n",
    "                text += '\\n\\n'\n",
    "        elif 'sedaily' in site: #서울경제\n",
    "            text += driver.find_element_by_css_selector('#articleBody').text\n",
    "        elif 'sednews' in site:\n",
    "            text += soup.find('div', class_='view_con').text.strip()\n",
    "        elif 'heraldcorp' in site: #헤럴드\n",
    "            text += soup.find('div', id='articleText').text.strip()\n",
    "        elif 'asiae' in site:\n",
    "            text += soup.find('div', id='txt_area').text.strip()\n",
    "        elif 'ajunews' in site:\n",
    "            text += soup.find('div', id='articleBody').text.strip()\n",
    "        elif 'news.mk' in site: #매일경제 mbn\n",
    "            text += soup.find('div', class_='art_txt').text.strip()\n",
    "        elif 'mbn.mk' in site: #매일경제\n",
    "            text += soup.find('div', id='newsViewArea').text.strip()\n",
    "        elif 'www.mk' in site:\n",
    "            text += soup.find('div', id='newsViewArea').text.strip()\n",
    "        elif 'fnnews' in site: #파이낸셜뉴스\n",
    "            text += soup.find('div', class_='news_text').text.strip()\n",
    "        elif 'hankyung' in site: #한국경제\n",
    "            text += soup.find('div', id='articletxt').text.strip()\n",
    "        elif 'segye' in site: #세계일보\n",
    "            text += soup.find('div', itemprop='articleBody').text.strip()\n",
    "        elif 'seoul.co.kr' in site: #서울신문\n",
    "            text +=soup.find('div', id='atic_txt1').text.strip()\n",
    "        elif 'hani' in site: #한겨레\n",
    "            text += soup.find('div', class_='text').text.strip()\n",
    "        elif 'news.mt' in site: #머니투데이\n",
    "            text += soup.find('div', id='textBody').text.strip()\n",
    "        elif 'news.moneytoday' in site:\n",
    "            text += soup.find('div', id='textBody').text.strip()\n",
    "        elif 'naeil.com/news_view' in site: #내일신문\n",
    "            text += soup.find('div', class_='articleArea').text.strip()\n",
    "        elif 'naeil.com/News/economy' in site: #내일신문\n",
    "            #text += driver.find_element_by_css_selector('#contents').text\n",
    "            pass\n",
    "        elif 'khan' in site: #경향비즈\n",
    "            driver.get(site)\n",
    "            text += driver.find_element_by_css_selector('#articleBody').text\n",
    "        ###elif 'joins' in site: #중앙일보\n",
    "            ###text += driver.find_element_by_css_selector('#article_body').text\n",
    "        elif 'kmib' in site: #국민일보\n",
    "            text += soup.find('div', id='articleBody').text.strip()\n",
    "        elif 'bizn.donga' in site: #동아일보\n",
    "            text += soup.find('div', id='ct').text.strip()\n",
    "        elif 'news.donga' in site:\n",
    "            text += soup.find('div', class_='article_txt').text.strip()\n",
    "        elif 'hankookilbo' in site:\n",
    "            text += soup.find('div', class_='article-story').text.strip()\n",
    "        elif 'munhwa' in site:\n",
    "            text += soup.find('div', id='NewsAdContent').text.strip()\n",
    "        else:\n",
    "            pass\n",
    "        news['link'].append(site)\n",
    "        news['content'].append(text)\n",
    "    except:\n",
    "        pass\n",
    "df = pd.DataFrame.from_dict(news)\n",
    "df.columns = ['link', 'content']\n",
    "df.to_csv('코리안리_content.csv', index=False, encoding='utf-8-sig')"
   ]
  },
  {
   "cell_type": "code",
   "execution_count": null,
   "metadata": {},
   "outputs": [],
   "source": []
  }
 ],
 "metadata": {
  "kernelspec": {
   "display_name": "Python 3",
   "language": "python",
   "name": "python3"
  },
  "language_info": {
   "codemirror_mode": {
    "name": "ipython",
    "version": 3
   },
   "file_extension": ".py",
   "mimetype": "text/x-python",
   "name": "python",
   "nbconvert_exporter": "python",
   "pygments_lexer": "ipython3",
   "version": "3.7.3"
  },
  "toc": {
   "base_numbering": 1,
   "nav_menu": {},
   "number_sections": true,
   "sideBar": true,
   "skip_h1_title": false,
   "title_cell": "Table of Contents",
   "title_sidebar": "Contents",
   "toc_cell": true,
   "toc_position": {},
   "toc_section_display": true,
   "toc_window_display": true
  },
  "varInspector": {
   "cols": {
    "lenName": 16,
    "lenType": 16,
    "lenVar": 40
   },
   "kernels_config": {
    "python": {
     "delete_cmd_postfix": "",
     "delete_cmd_prefix": "del ",
     "library": "var_list.py",
     "varRefreshCmd": "print(var_dic_list())"
    },
    "r": {
     "delete_cmd_postfix": ") ",
     "delete_cmd_prefix": "rm(",
     "library": "var_list.r",
     "varRefreshCmd": "cat(var_dic_list()) "
    }
   },
   "types_to_exclude": [
    "module",
    "function",
    "builtin_function_or_method",
    "instance",
    "_Feature"
   ],
   "window_display": false
  }
 },
 "nbformat": 4,
 "nbformat_minor": 2
}
