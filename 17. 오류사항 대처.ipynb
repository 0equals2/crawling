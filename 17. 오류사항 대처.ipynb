{
 "cells": [
  {
   "cell_type": "code",
   "execution_count": 5,
   "metadata": {},
   "outputs": [],
   "source": [
    "import requests\n",
    "from retrying import retry\n",
    "import time"
   ]
  },
  {
   "cell_type": "code",
   "execution_count": 6,
   "metadata": {},
   "outputs": [],
   "source": [
    "# 일시적인 오류를 나타내는 상태코드\n",
    "# 500번은 제외. 500번은 서버 개발자가 만든 코드가 \n",
    "# 잘못되어 발생되는 코드\n",
    "error_code = (503, 408, 502, 504, 400)"
   ]
  },
  {
   "cell_type": "code",
   "execution_count": 7,
   "metadata": {},
   "outputs": [],
   "source": [
    "#요청 처리를 하는 함수\n",
    "# stop_max_attemp_number : 예외가 발생했을 때\n",
    "# 다시 호출하는 최대 횟수\n",
    "# wait_exponential_nultiplier : 다시 호출시\n",
    "# 대기하는 시간 증가값\n",
    "@retry(stop_max_attempt_number=3, wait_exponential_multiplier=1000)\n",
    "def fetch(url) :\n",
    "    # 요청한다.\n",
    "    response = requests.get(url)\n",
    "    print(f'응답코드 : {response.status_code}')\n",
    "    # 일시적인 오류상태가 아니라면 응답결과를 반환\n",
    "    if response.status_code not in error_code :\n",
    "        return response\n",
    "    \n",
    "    # 일시적인 오류라면 예외를 발생시킨다.\n",
    "    raise Exception('요청 오류 발생')"
   ]
  },
  {
   "cell_type": "code",
   "execution_count": null,
   "metadata": {},
   "outputs": [
    {
     "name": "stdout",
     "output_type": "stream",
     "text": [
      "응답코드 : 502\n",
      "응답코드 : 503\n",
      "응답코드 : 404\n",
      "영구적 오류. 퇴근하세요\n",
      "응답코드 : 503\n",
      "응답코드 : 504\n",
      "응답코드 : 504\n",
      "요청 오류 발생\n",
      "일시적 오류 발생\n",
      "오류가 발생한 주소를 파일에 저장해두세요\n",
      "응답코드 : 502\n",
      "응답코드 : 500\n",
      "영구적 오류. 퇴근하세요\n",
      "응답코드 : 502\n",
      "응답코드 : 500\n",
      "영구적 오류. 퇴근하세요\n",
      "응답코드 : 408\n",
      "응답코드 : 500\n",
      "영구적 오류. 퇴근하세요\n",
      "응답코드 : 503\n",
      "응답코드 : 503\n",
      "응답코드 : 504\n",
      "요청 오류 발생\n",
      "일시적 오류 발생\n",
      "오류가 발생한 주소를 파일에 저장해두세요\n",
      "응답코드 : 502\n",
      "응답코드 : 503\n",
      "응답코드 : 408\n",
      "요청 오류 발생\n",
      "일시적 오류 발생\n",
      "오류가 발생한 주소를 파일에 저장해두세요\n",
      "응답코드 : 503\n",
      "응답코드 : 503\n",
      "응답코드 : 404\n",
      "영구적 오류. 퇴근하세요\n",
      "응답코드 : 408\n",
      "응답코드 : 504\n",
      "응답코드 : 408\n",
      "요청 오류 발생\n",
      "일시적 오류 발생\n",
      "오류가 발생한 주소를 파일에 저장해두세요\n",
      "응답코드 : 503\n",
      "응답코드 : 502\n"
     ]
    }
   ],
   "source": [
    "\n",
    "while True :\n",
    "    try :\n",
    "        time.sleep(1)\n",
    "        # 요청한다.\n",
    "        response = fetch('http://httpbin.org/status/200,404,503,408,500,502,504')\n",
    "        # 응답 코드에 따라 분기한다.\n",
    "        if 200 <= response.status_code < 300 :\n",
    "            print('success')\n",
    "            print('크롤링 코드')\n",
    "        else :\n",
    "            print('영구적 오류. 퇴근하세요')\n",
    "            break\n",
    "    except Exception as e:\n",
    "        print(e)\n",
    "        print('일시적 오류 발생')\n",
    "        print('오류가 발생한 주소를 파일에 저장해두세요')\n",
    "        "
   ]
  },
  {
   "cell_type": "code",
   "execution_count": null,
   "metadata": {},
   "outputs": [],
   "source": []
  }
 ],
 "metadata": {
  "kernelspec": {
   "display_name": "Python 3",
   "language": "python",
   "name": "python3"
  },
  "language_info": {
   "codemirror_mode": {
    "name": "ipython",
    "version": 3
   },
   "file_extension": ".py",
   "mimetype": "text/x-python",
   "name": "python",
   "nbconvert_exporter": "python",
   "pygments_lexer": "ipython3",
   "version": "3.6.5"
  }
 },
 "nbformat": 4,
 "nbformat_minor": 2
}
