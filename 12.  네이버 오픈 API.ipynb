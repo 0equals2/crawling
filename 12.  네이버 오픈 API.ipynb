{
 "cells": [
  {
   "cell_type": "markdown",
   "metadata": {},
   "source": [
    "# OPEN API\n",
    "\n",
    "데이터를 수집한 곳에서 일반 개발자들에게 사용할 수 있도록 공개한 서비스.\n",
    "\n",
    "유료/무료... \n",
    "\n",
    "대부분이 무료로 제공되고 사용량에 따라 요금을 받는다.\n",
    "\n",
    "데이터는 XML이나 JSON 양식으로 제공하며 웹으로 요청이 가능하게 한다.\n",
    "\n",
    "사용방법\n",
    "1. OPEN API 서비스를 찾는다.\n",
    "2. 요청할 주소를 확인한다.\n",
    "3. 요청할 때 서버로 보낼 데이터(파라미터, 해더)를 확인한다.\n",
    "4. 응답결과 양식을 확인한다.\n",
    "5. postman으로 테스트."
   ]
  },
  {
   "cell_type": "code",
   "execution_count": 16,
   "metadata": {},
   "outputs": [],
   "source": [
    "import requests\n",
    "import bs4\n",
    "import pandas\n",
    "import re\n",
    "import time\n",
    "\n",
    "chk = False"
   ]
  },
  {
   "cell_type": "code",
   "execution_count": 17,
   "metadata": {},
   "outputs": [],
   "source": [
    "def getKeyword() :\n",
    "    keyword = input('검색어를 입력해 주세요 : ')\n",
    "    return keyword"
   ]
  },
  {
   "cell_type": "code",
   "execution_count": 18,
   "metadata": {
    "scrolled": false
   },
   "outputs": [],
   "source": [
    "def connectionSite(keyword, start):\n",
    "    # 요청할 페이지의 주소\n",
    "    site = 'https://openapi.naver.com/v1/search/blog.xml'\n",
    "    # 파라미터 데이터\n",
    "    params = {\n",
    "        'query' : keyword,\n",
    "        'start' : start,\n",
    "        'display' : 100,\n",
    "        'sort' : 'date'\n",
    "    }\n",
    "    # 헤더정보\n",
    "    headers = {\n",
    "        'X-Naver-Client-Id' : 'Fx7kgsRNPQ7XGU5LeQSE',\n",
    "        'X-Naver-Client-Secret' : '2s01pestJ4'\n",
    "    }\n",
    "    # 요청한다.\n",
    "    response = requests.get(site, params=params, headers=headers)\n",
    "    soup = bs4.BeautifulSoup(response.text, 'lxml')\n",
    "    # print(soup.prettify())\n",
    "    return soup"
   ]
  },
  {
   "cell_type": "code",
   "execution_count": 19,
   "metadata": {
    "scrolled": true
   },
   "outputs": [],
   "source": [
    "# 태그의 문자열에서 html 태그를 제거하고 반환하는 함수\n",
    "def getText(tag, tag_name) :\n",
    "    temp_str = tag.select(tag_name)[0].text.strip()\n",
    "    temp_str = re.sub('<.+?>', '', temp_str, 0).strip()\n",
    "    return temp_str\n",
    "\n",
    "\n",
    "def getData(soup, keyword, start) :\n",
    "    # item 태그들을 가져온다.\n",
    "    item_list = soup.select('item')\n",
    "    # print(item_list)\n",
    "    # item 태그의 개수만큼 반복\n",
    "    for item_tag in item_list :\n",
    "        # title 값 추출\n",
    "        title_str = getText(item_tag, 'title')\n",
    "        # print(title_str)\n",
    "        # link 추출\n",
    "        link_str = list(item_tag.children)[2].strip()\n",
    "        # print(link_str)\n",
    "        # description 추출\n",
    "        description_str = getText(item_tag, 'description')\n",
    "        # print(description_str)\n",
    "        bloggername_str = getText(item_tag, 'bloggername')\n",
    "        bloggerlink_str = getText(item_tag, 'bloggerlink')\n",
    "        postdate_str = getText(item_tag, 'postdate')\n",
    "\n",
    "        data_dic = {\n",
    "            'title' : [title_str],\n",
    "            'link' : [link_str],\n",
    "            'description' : [description_str],\n",
    "            'bloggername' : [bloggername_str],\n",
    "            'bloggerlink' : [bloggerlink_str],\n",
    "            'postdate' : [postdate_str]\n",
    "        }\n",
    "\n",
    "        df = pandas.DataFrame(data_dic)\n",
    "\n",
    "        global chk\n",
    "        \n",
    "        if chk == False :\n",
    "            chk = True\n",
    "            df.to_csv(f'{keyword}.csv', index=False, encoding='utf-8-sig')\n",
    "        else :\n",
    "            df.to_csv(f'{keyword}.csv', index=False, encoding='utf-8-sig', mode='a', header=False)\n",
    "\n",
    "        # total 값을 가져온다.\n",
    "        total_str = soup.select('total')[0].text.strip()\n",
    "        \n",
    "    return int(total_str)\n",
    "        \n",
    "    "
   ]
  },
  {
   "cell_type": "code",
   "execution_count": 21,
   "metadata": {
    "scrolled": false
   },
   "outputs": [
    {
     "name": "stdout",
     "output_type": "stream",
     "text": [
      "검색어를 입력해 주세요 : 멀티캠퍼스\n",
      "1 / 45972\n",
      "101 / 45972\n",
      "201 / 45972\n",
      "301 / 45972\n",
      "401 / 45972\n",
      "501 / 45972\n",
      "601 / 45972\n",
      "701 / 45972\n",
      "801 / 45972\n",
      "901 / 45972\n",
      "1000 / 45972\n"
     ]
    }
   ],
   "source": [
    "start = 1\n",
    "\n",
    "keyword = getKeyword()\n",
    "\n",
    "while True :\n",
    "    time.sleep(0.5)\n",
    "    soup = connectionSite(keyword, start)\n",
    "    total = getData(soup, keyword, start)\n",
    "    \n",
    "    print(f'{start} / {total}')\n",
    "    \n",
    "    # 더이상 있는지 확인한다.\n",
    "    start = start + 100\n",
    "\n",
    "    # 1000개 이하일 경우\n",
    "    if start >= total :\n",
    "        break\n",
    "    # 901번까지 왔다면 1000으로 셋팅한다.(마지막 페이지)\n",
    "    elif start == 1001 :\n",
    "        start = 1000\n",
    "    # 1000번까지 왔다면 종료\n",
    "    elif start == 1100 :\n",
    "        break\n",
    "    \n",
    "    \n",
    "    \n",
    "    "
   ]
  },
  {
   "cell_type": "code",
   "execution_count": null,
   "metadata": {},
   "outputs": [],
   "source": []
  }
 ],
 "metadata": {
  "kernelspec": {
   "display_name": "Python 3",
   "language": "python",
   "name": "python3"
  },
  "language_info": {
   "codemirror_mode": {
    "name": "ipython",
    "version": 3
   },
   "file_extension": ".py",
   "mimetype": "text/x-python",
   "name": "python",
   "nbconvert_exporter": "python",
   "pygments_lexer": "ipython3",
   "version": "3.6.5"
  }
 },
 "nbformat": 4,
 "nbformat_minor": 2
}
