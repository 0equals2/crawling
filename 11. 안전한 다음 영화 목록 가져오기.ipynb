{
 "cells": [
  {
   "cell_type": "code",
   "execution_count": 15,
   "metadata": {},
   "outputs": [],
   "source": [
    "from selenium import webdriver\n",
    "from bs4 import BeautifulSoup\n",
    "from time import sleep"
   ]
  },
  {
   "cell_type": "code",
   "execution_count": 16,
   "metadata": {},
   "outputs": [],
   "source": [
    "driver = webdriver.Chrome('chromedriver')"
   ]
  },
  {
   "cell_type": "code",
   "execution_count": 17,
   "metadata": {},
   "outputs": [],
   "source": [
    "# 다음 영화 메인 페이지\n",
    "url = 'https://movie.daum.net/main/new#slide-1-0'\n",
    "driver.get(url)"
   ]
  },
  {
   "cell_type": "code",
   "execution_count": 18,
   "metadata": {},
   "outputs": [],
   "source": [
    "# 현재상영/개봉예정 탭 클릭\n",
    "tab1 = driver.find_element_by_css_selector('#dkGnb > div > ul > li:nth-child(2) > a')\n",
    "tab1.click()"
   ]
  },
  {
   "cell_type": "code",
   "execution_count": 59,
   "metadata": {},
   "outputs": [
    {
     "name": "stdout",
     "output_type": "stream",
     "text": [
      "저장완료\n"
     ]
    }
   ],
   "source": [
    "# 영화 정보를 추출한다.\n",
    "# 영화 정보를 가지고 있는 li 태그들을 가져온다.\n",
    "li_list = driver.find_elements_by_css_selector('#mArticle > ul.list_movie.\\#movie > li')\n",
    "\n",
    "data_dic = {\n",
    "    'name' : [],\n",
    "    'point' : []\n",
    "}\n",
    "\n",
    "for li_tag in li_list :\n",
    "    name_tag = li_tag.find_element_by_css_selector('div.wrap_movie > div > a')\n",
    "    point_tag = li_tag.find_element_by_css_selector('div.wrap_movie > span.info_grade > a > span.wrap_grade.grade_netizen')\n",
    "    list1 = point_tag.text.splitlines()\n",
    "    point_str = str(int(list1[1])) + '.' + str(int(list1[3]))\n",
    "    #print(name_tag.text.strip())\n",
    "    #print(point_str)\n",
    "    \n",
    "    data_dic['name'].append(name_tag.text.strip())\n",
    "    data_dic['point'].append(point_str)\n",
    "    \n",
    "import pandas\n",
    "\n",
    "df = pandas.DataFrame.from_dict(data_dic)\n",
    "df.columns = ['영화제목', '평점']\n",
    "df.to_csv('daum_movie.csv', encoding='utf-8-sig', index=False)\n",
    "print('저장완료')"
   ]
  },
  {
   "cell_type": "code",
   "execution_count": null,
   "metadata": {},
   "outputs": [],
   "source": []
  }
 ],
 "metadata": {
  "kernelspec": {
   "display_name": "Python 3",
   "language": "python",
   "name": "python3"
  },
  "language_info": {
   "codemirror_mode": {
    "name": "ipython",
    "version": 3
   },
   "file_extension": ".py",
   "mimetype": "text/x-python",
   "name": "python",
   "nbconvert_exporter": "python",
   "pygments_lexer": "ipython3",
   "version": "3.6.5"
  }
 },
 "nbformat": 4,
 "nbformat_minor": 2
}
