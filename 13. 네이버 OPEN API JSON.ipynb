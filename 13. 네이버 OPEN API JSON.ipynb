{
 "cells": [
  {
   "cell_type": "code",
   "execution_count": 18,
   "metadata": {},
   "outputs": [],
   "source": [
    "import requests\n",
    "import json\n",
    "import pandas\n",
    "import re\n",
    "import time"
   ]
  },
  {
   "cell_type": "markdown",
   "metadata": {},
   "source": [
    "# JSON\n",
    "\n",
    "JavaScript Object Notation : JavaScript에서 객체를 표현하는 문법을 이용해 데이터를 표현하는 문서의 양식\n",
    "\n",
    "정수 : 100\n",
    "\n",
    "실수 : 11.11\n",
    "\n",
    "참거짓 : true, false\n",
    "\n",
    "문자열 : \"문자열\"\n",
    "\n",
    "배열 : []   => 리스트\n",
    "\n",
    "객체 : {}   => 딕셔너리\n",
    "\n",
    "\n",
    "\n",
    "\n",
    "\n",
    "\n",
    "\n"
   ]
  },
  {
   "cell_type": "code",
   "execution_count": 19,
   "metadata": {},
   "outputs": [],
   "source": [
    "chk = False"
   ]
  },
  {
   "cell_type": "code",
   "execution_count": 20,
   "metadata": {},
   "outputs": [],
   "source": [
    "def getKeyword() :\n",
    "    keyword = input('검색어를 입력해 주세요 : ')\n",
    "    return keyword"
   ]
  },
  {
   "cell_type": "code",
   "execution_count": 21,
   "metadata": {},
   "outputs": [],
   "source": [
    "def connectionSite(keyword, start):\n",
    "    # 요청할 페이지의 주소\n",
    "    site = 'https://openapi.naver.com/v1/search/blog.json'\n",
    "    # 파라미터 데이터\n",
    "    params = {\n",
    "        'query' : keyword,\n",
    "        'start' : start,\n",
    "        'display' : 100,\n",
    "        'sort' : 'date'\n",
    "    }\n",
    "    # 헤더정보\n",
    "    headers = {\n",
    "        'X-Naver-Client-Id' : 'Fx7kgsRNPQ7XGU5LeQSE',\n",
    "        'X-Naver-Client-Secret' : '2s01pestJ4'\n",
    "    }\n",
    "    # 요청한다.\n",
    "    response = requests.get(site, params=params, headers=headers)\n",
    "    # json 객체를 만든다(딕셔너리나 리스트로 만들어진다)\n",
    "    json_dic = json.loads(response.text)\n",
    "    # print(type(json_dic))\n",
    "    return json_dic"
   ]
  },
  {
   "cell_type": "code",
   "execution_count": 22,
   "metadata": {},
   "outputs": [],
   "source": [
    "# 전달된 문자열에서 html 태그를 제거한다.\n",
    "def getText(data_str) :\n",
    "    temp_str = re.sub('<.+?>', '', data_str, 0).strip()\n",
    "    return temp_str"
   ]
  },
  {
   "cell_type": "code",
   "execution_count": 23,
   "metadata": {},
   "outputs": [],
   "source": [
    "def getData(json_obj, keyword, start) :\n",
    "    # print(item_list)\n",
    "    # item 태그의 개수만큼 반복\n",
    "    for item_tag in json_obj['items'] :\n",
    "        # title 값 추출\n",
    "        title_str = getText(item_tag['title'])\n",
    "        # print(title_str)\n",
    "        # link 추출\n",
    "        link_str = getText(item_tag['link'])\n",
    "        # print(link_str)\n",
    "        # description 추출\n",
    "        description_str = getText(item_tag['description'])\n",
    "        # print(description_str)\n",
    "        bloggername_str = getText(item_tag['bloggername'])\n",
    "        bloggerlink_str = getText(item_tag['bloggerlink'])\n",
    "        postdate_str = getText(item_tag['postdate'])\n",
    "\n",
    "        data_dic = {\n",
    "            'title' : [title_str],\n",
    "            'link' : [link_str],\n",
    "            'description' : [description_str],\n",
    "            'bloggername' : [bloggername_str],\n",
    "            'bloggerlink' : [bloggerlink_str],\n",
    "            'postdate' : [postdate_str]\n",
    "        }\n",
    "\n",
    "        df = pandas.DataFrame(data_dic)\n",
    "\n",
    "        global chk\n",
    "        \n",
    "        if chk == False :\n",
    "            chk = True\n",
    "            df.to_csv(f'{keyword}.csv', index=False, encoding='utf-8-sig')\n",
    "        else :\n",
    "            df.to_csv(f'{keyword}.csv', index=False, encoding='utf-8-sig', mode='a', header=False)\n",
    "\n",
    "        # total 값을 가져온다.\n",
    "        total = json_obj['total']\n",
    "        \n",
    "    return total"
   ]
  },
  {
   "cell_type": "code",
   "execution_count": 24,
   "metadata": {
    "scrolled": true
   },
   "outputs": [
    {
     "name": "stdout",
     "output_type": "stream",
     "text": [
      "검색어를 입력해 주세요 : 캡틴마블\n",
      "1 / 30884\n",
      "101 / 30884\n",
      "201 / 30884\n",
      "301 / 30884\n",
      "401 / 30884\n",
      "501 / 30884\n",
      "601 / 30884\n",
      "701 / 30884\n",
      "801 / 30884\n",
      "901 / 30884\n",
      "1000 / 30884\n"
     ]
    }
   ],
   "source": [
    "start = 1\n",
    "\n",
    "keyword = getKeyword()\n",
    "\n",
    "while True :\n",
    "    time.sleep(0.5)\n",
    "    json_obj = connectionSite(keyword, start)\n",
    "    total = getData(json_obj, keyword, start)\n",
    "    \n",
    "    print(f'{start} / {total}')\n",
    "    \n",
    "    # 더이상 있는지 확인한다.\n",
    "    start = start + 100\n",
    "\n",
    "    # 1000개 이하일 경우\n",
    "    if start >= total :\n",
    "        break\n",
    "    # 901번까지 왔다면 1000으로 셋팅한다.(마지막 페이지)\n",
    "    elif start == 1001 :\n",
    "        start = 1000\n",
    "    # 1000번까지 왔다면 종료\n",
    "    elif start == 1100 :\n",
    "        break"
   ]
  },
  {
   "cell_type": "code",
   "execution_count": null,
   "metadata": {},
   "outputs": [],
   "source": []
  }
 ],
 "metadata": {
  "kernelspec": {
   "display_name": "Python 3",
   "language": "python",
   "name": "python3"
  },
  "language_info": {
   "codemirror_mode": {
    "name": "ipython",
    "version": 3
   },
   "file_extension": ".py",
   "mimetype": "text/x-python",
   "name": "python",
   "nbconvert_exporter": "python",
   "pygments_lexer": "ipython3",
   "version": "3.6.5"
  }
 },
 "nbformat": 4,
 "nbformat_minor": 2
}
