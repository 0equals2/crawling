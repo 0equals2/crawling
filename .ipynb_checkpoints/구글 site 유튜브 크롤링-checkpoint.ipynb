{
 "cells": [
  {
   "cell_type": "code",
   "execution_count": 1,
   "metadata": {
    "ExecuteTime": {
     "end_time": "2019-05-13T07:56:40.851009Z",
     "start_time": "2019-05-13T07:56:40.372009Z"
    }
   },
   "outputs": [],
   "source": [
    "from bs4 import BeautifulSoup \n",
    "from selenium import webdriver \n",
    "from selenium.webdriver.common.keys import Keys \n",
    "from datetime import datetime \n",
    "import pandas as pd \n",
    "import time \n",
    "import re\n",
    "from selenium.common.exceptions import NoSuchElementException"
   ]
  },
  {
   "cell_type": "code",
   "execution_count": 87,
   "metadata": {
    "ExecuteTime": {
     "end_time": "2019-05-13T09:06:29.617009Z",
     "start_time": "2019-05-13T09:06:29.608009Z"
    }
   },
   "outputs": [],
   "source": [
    "#딕셔너리에 각 링크에 해당하는 수집 데이터 저장\n",
    "#링크에 해당하는 댓글은 여럿이므로 두개로 나누어 만듦\n",
    "#링크는 txt파일로 따로 저장하여 불러온다.\n",
    "#각 링크의 정보를 크롤링하며 기존에 저장했는지 여부를 확인\n",
    "#https://www.google.com/search?q=innisfree+site:youtube.com&source=lnms&tbm=vid&sa=X&ved=0ahUKEwiSx7zPhJjiAhX-yosBHZ33BC8Q_AUIESgE&biw=1280&bih=913\n",
    "#유튜브에 키워드를 검색하여 나오는 정확도 상위 항목들을 순서대로 링크를 따온다.\n",
    "#date0101=[20180101,20170101,20160101,20150101,20140101,20130101,20120101,20110101,20100101,20090101,20080101,20070101,20060101,20050101,20040101]\n",
    "\n",
    "def youtube(date0101):\n",
    "    url=[]\n",
    "    for date in date0101:\n",
    "        driver.get(f'https://www.google.com/search?q=innisfree+site:youtube.com&source=lnms&tbm=vid&tbs=cdr%3A1%2Ccd_min%3A{date}%2Ccd_max%3A{date+1130}')\n",
    "        time.sleep(2)\n",
    "        for j in range(3,10):\n",
    "            for i in (1,12):\n",
    "                try:\n",
    "                    url.append(driver.find_element_by_css_selector(f'#rso > div > div > div:nth-child({i}) > div > div > div.r > a > div > cite').text)\n",
    "                except:\n",
    "                    try:\n",
    "                        url.append(driver.find_element_by_css_selector(f'#rso > div > div > div:nth-child({i}) > div > div > div.r > a:nth-child(1) > div > cite').get_attribue(\"href\"))\n",
    "                    except:\n",
    "                        pass\n",
    "            driver.find_element_by_css_selector(f'#nav > tbody > tr > td:nth-child({j}) > a').click()\n",
    "            time.sleep(2)\n",
    "        #nav > tbody > tr > td:nth-child(3) > a\n",
    "        #nav > tbody > tr > td:nth-child(4) > a\n",
    "        #nav > tbody > tr > td:nth-child(4) > a\n",
    "        #nav > tbody > tr > td:nth-child(5) > a\n",
    "            print(\"몇개 따왔니 : \",len(url))\n",
    "        print(\"전부는 몇개니 : \",len(url))\n",
    "        return url\n"
   ]
  },
  {
   "cell_type": "code",
   "execution_count": 2,
   "metadata": {
    "ExecuteTime": {
     "end_time": "2019-05-13T08:06:16.358009Z",
     "start_time": "2019-05-13T08:06:14.178009Z"
    }
   },
   "outputs": [],
   "source": [
    "driver = webdriver.Chrome('chromedriver')"
   ]
  },
  {
   "cell_type": "code",
   "execution_count": 88,
   "metadata": {
    "ExecuteTime": {
     "end_time": "2019-05-13T09:06:52.747009Z",
     "start_time": "2019-05-13T09:06:31.550009Z"
    },
    "scrolled": true
   },
   "outputs": [
    {
     "name": "stdout",
     "output_type": "stream",
     "text": [
      "몇개 따왔니 :  1\n",
      "몇개 따왔니 :  2\n",
      "몇개 따왔니 :  3\n",
      "몇개 따왔니 :  4\n",
      "몇개 따왔니 :  5\n",
      "몇개 따왔니 :  6\n",
      "몇개 따왔니 :  7\n",
      "전부는 몇개니 :  7\n"
     ]
    }
   ],
   "source": [
    "date0101=[20180101,20170101,20160101,20150101,20140101]\n",
    "url=youtube(date0101)"
   ]
  },
  {
   "cell_type": "code",
   "execution_count": 96,
   "metadata": {
    "ExecuteTime": {
     "end_time": "2019-05-13T09:09:00.805009Z",
     "start_time": "2019-05-13T09:09:00.761009Z"
    }
   },
   "outputs": [
    {
     "data": {
      "text/plain": [
       "'https://www.youtube.com/watch?v=0mTpuKMqUgQ'"
      ]
     },
     "execution_count": 96,
     "metadata": {},
     "output_type": "execute_result"
    }
   ],
   "source": [
    "driver.find_element_by_css_selector('#rso > div > div > div:nth-child(2) > div > div > div.r > a > div > cite').text"
   ]
  },
  {
   "cell_type": "code",
   "execution_count": 75,
   "metadata": {
    "ExecuteTime": {
     "end_time": "2019-05-13T08:59:08.403009Z",
     "start_time": "2019-05-13T08:59:08.343009Z"
    },
    "scrolled": true
   },
   "outputs": [],
   "source": [
    "url=[]\n",
    "for i in (1,12):\n",
    "    try:\n",
    "        url.append((driver.find_element_by_css_selector(f'#rso > div > div > div:nth-child({i}) > div > div > div.r > a > div > cite')).get_attribute(\"href\"))\n",
    "    except:\n",
    "        try:\n",
    "            url.append((driver.find_element_by_css_selector(f'#rso > div > div > div:nth-child({i}) > div > div > div.r > a:nth-child(1) > div > cite')).get_attribue(\"href\"))\n",
    "        except:\n",
    "            pass"
   ]
  },
  {
   "cell_type": "code",
   "execution_count": 99,
   "metadata": {
    "ExecuteTime": {
     "end_time": "2019-05-13T09:11:41.379009Z",
     "start_time": "2019-05-13T09:11:13.591009Z"
    }
   },
   "outputs": [],
   "source": [
    "for date in date0101:\n",
    "    driver.get(f'https://www.google.com/search?q=innisfree+site:youtube.com&source=lnms&tbm=vid&tbs=cdr%3A1%2Ccd_min%3A{date}%2Ccd_max%3A{date+1130}')\n",
    "    time.sleep(5)"
   ]
  },
  {
   "cell_type": "code",
   "execution_count": 59,
   "metadata": {
    "ExecuteTime": {
     "end_time": "2019-05-13T08:52:15.065009Z",
     "start_time": "2019-05-13T08:52:15.061009Z"
    }
   },
   "outputs": [],
   "source": [
    "#rso > div > div > div:nth-child(1) > div > div > div.r > a > div > cite\n",
    "#rso > div > div > div:nth-child(2) > div > div > div.r > a > div > cite\n",
    "#rso > div > div > div:nth-child(3) > div > div > div.r > a > div > cite\n",
    "#rso > div > div > div:nth-child(4) > div > div > div.r > a > div > cite"
   ]
  },
  {
   "cell_type": "code",
   "execution_count": 35,
   "metadata": {
    "ExecuteTime": {
     "end_time": "2019-05-13T08:39:34.510009Z",
     "start_time": "2019-05-13T08:39:34.508009Z"
    }
   },
   "outputs": [],
   "source": [
    "\n",
    "#rso > div > div > div:nth-child(1) > div > div > div.r > a > div > cite"
   ]
  },
  {
   "cell_type": "code",
   "execution_count": 8,
   "metadata": {
    "ExecuteTime": {
     "end_time": "2019-05-13T08:07:41.872009Z",
     "start_time": "2019-05-13T08:07:41.849009Z"
    },
    "scrolled": true
   },
   "outputs": [
    {
     "data": {
      "text/plain": [
       "[<selenium.webdriver.remote.webelement.WebElement (session=\"ecc4c094c0266fe70f07a0d6c1130025\", element=\"0.11070796056383281-2\")>]"
      ]
     },
     "execution_count": 8,
     "metadata": {},
     "output_type": "execute_result"
    }
   ],
   "source": [
    "driver.find_elements_by_css_selector('#rso > div > div > div:nth-child(10) > div > div > div.r > a > div > cite')"
   ]
  },
  {
   "cell_type": "code",
   "execution_count": null,
   "metadata": {},
   "outputs": [],
   "source": [
    "#rso > div > div > div:nth-child(11) > div > div > div.r > a > div > cite"
   ]
  },
  {
   "cell_type": "code",
   "execution_count": 6,
   "metadata": {
    "ExecuteTime": {
     "end_time": "2019-05-13T08:06:42.451009Z",
     "start_time": "2019-05-13T08:06:42.431009Z"
    }
   },
   "outputs": [
    {
     "data": {
      "text/plain": [
       "[<selenium.webdriver.remote.webelement.WebElement (session=\"ecc4c094c0266fe70f07a0d6c1130025\", element=\"0.11070796056383281-1\")>]"
      ]
     },
     "execution_count": 6,
     "metadata": {},
     "output_type": "execute_result"
    }
   ],
   "source": [
    "lst"
   ]
  },
  {
   "cell_type": "code",
   "execution_count": null,
   "metadata": {},
   "outputs": [],
   "source": [
    "driver.find_elements_by_css_selector('#nav > tbody > tr > td:nth-child(3) > a')"
   ]
  }
 ],
 "metadata": {
  "kernelspec": {
   "display_name": "Python 3",
   "language": "python",
   "name": "python3"
  },
  "language_info": {
   "codemirror_mode": {
    "name": "ipython",
    "version": 3
   },
   "file_extension": ".py",
   "mimetype": "text/x-python",
   "name": "python",
   "nbconvert_exporter": "python",
   "pygments_lexer": "ipython3",
   "version": "3.7.3"
  }
 },
 "nbformat": 4,
 "nbformat_minor": 2
}
