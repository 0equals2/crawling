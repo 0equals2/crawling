{
 "cells": [
  {
   "cell_type": "markdown",
   "metadata": {},
   "source": [
    "# BS4 (BeautifulSoup 4)"
   ]
  },
  {
   "cell_type": "markdown",
   "metadata": {},
   "source": [
    "xml이나 html 문서를 분석해서 원하는 데이터를 쉽게 가져올 수 있도록 제작된 모듈"
   ]
  },
  {
   "cell_type": "code",
   "execution_count": 1,
   "metadata": {},
   "outputs": [],
   "source": [
    "# pip install beautifulsoup4\n",
    "# pip install lxml\n",
    "import bs4"
   ]
  },
  {
   "cell_type": "code",
   "execution_count": 2,
   "metadata": {},
   "outputs": [
    {
     "data": {
      "text/plain": []
     },
     "execution_count": 2,
     "metadata": {},
     "output_type": "execute_result"
    }
   ],
   "source": [
    "# 객체 생성 방법\n",
    "html = ''\n",
    "soup = bs4.BeautifulSoup(html, 'lxml')\n",
    "soup"
   ]
  },
  {
   "cell_type": "code",
   "execution_count": 5,
   "metadata": {},
   "outputs": [
    {
     "name": "stdout",
     "output_type": "stream",
     "text": [
      "<html>\n",
      " <body>\n",
      "  <p>\n",
      "   test\n",
      "  </p>\n",
      " </body>\n",
      "</html>\n"
     ]
    }
   ],
   "source": [
    "html = '<p>test</p>'\n",
    "soup = bs4.BeautifulSoup(html, 'lxml')\n",
    "# soup\n",
    "print(soup.prettify())"
   ]
  },
  {
   "cell_type": "code",
   "execution_count": 7,
   "metadata": {},
   "outputs": [
    {
     "name": "stdout",
     "output_type": "stream",
     "text": [
      "<html>\n",
      " <body>\n",
      "  <p>\n",
      "   test\n",
      "  </p>\n",
      " </body>\n",
      "</html>\n"
     ]
    }
   ],
   "source": [
    "html = '''\n",
    "        <p>\n",
    "            test\n",
    "        </p>\n",
    "       '''\n",
    "soup = bs4.BeautifulSoup(html, 'lxml')\n",
    "print(soup.prettify())"
   ]
  },
  {
   "cell_type": "code",
   "execution_count": 8,
   "metadata": {},
   "outputs": [],
   "source": [
    "# 예제 html\n",
    "html = '''\n",
    "        <html>\n",
    "            <head>\n",
    "                <title>타이틀 태그</title>\n",
    "            </head>\n",
    "            <body>\n",
    "                <p>test1</p>\n",
    "                <p>test2</p>\n",
    "                <p>test3</p>\n",
    "            </body>\n",
    "        </html>\n",
    "       '''"
   ]
  },
  {
   "cell_type": "code",
   "execution_count": 9,
   "metadata": {},
   "outputs": [],
   "source": [
    "soup = bs4.BeautifulSoup(html, 'lxml')"
   ]
  },
  {
   "cell_type": "code",
   "execution_count": 15,
   "metadata": {},
   "outputs": [
    {
     "name": "stdout",
     "output_type": "stream",
     "text": [
      "<title>타이틀 태그</title>\n",
      "태그 사이의 문자열 값 : 타이틀 태그\n",
      "태그 이름 : title\n"
     ]
    }
   ],
   "source": [
    "# 타이틀 태그 객체\n",
    "print(soup.title)\n",
    "print(f'태그 사이의 문자열 값 : {soup.title.text}')\n",
    "print(f'태그 이름 : {soup.title.name}')"
   ]
  },
  {
   "cell_type": "code",
   "execution_count": 16,
   "metadata": {},
   "outputs": [],
   "source": [
    "# 속성값 가져오기\n",
    "html = '''\n",
    "        <html>\n",
    "            <body>\n",
    "                <input type='text' id='test_id' class='c1 c2'/>\n",
    "            </body>\n",
    "        </html>\n",
    "       '''\n",
    "soup = bs4.BeautifulSoup(html, 'lxml')"
   ]
  },
  {
   "cell_type": "code",
   "execution_count": 17,
   "metadata": {},
   "outputs": [
    {
     "data": {
      "text/plain": [
       "{'type': 'text', 'id': 'test_id', 'class': ['c1', 'c2']}"
      ]
     },
     "execution_count": 17,
     "metadata": {},
     "output_type": "execute_result"
    }
   ],
   "source": [
    "# input 태그 객체의 속성을 얻어온다.\n",
    "soup.input.attrs"
   ]
  },
  {
   "cell_type": "code",
   "execution_count": 18,
   "metadata": {},
   "outputs": [
    {
     "name": "stdout",
     "output_type": "stream",
     "text": [
      "text\n",
      "test_id\n",
      "['c1', 'c2']\n"
     ]
    }
   ],
   "source": [
    "print(soup.input.attrs['type'])\n",
    "print(soup.input.attrs['id'])\n",
    "print(soup.input.attrs['class'])"
   ]
  },
  {
   "cell_type": "code",
   "execution_count": 19,
   "metadata": {},
   "outputs": [
    {
     "ename": "KeyError",
     "evalue": "'abc'",
     "output_type": "error",
     "traceback": [
      "\u001b[1;31m---------------------------------------------------------------------------\u001b[0m",
      "\u001b[1;31mKeyError\u001b[0m                                  Traceback (most recent call last)",
      "\u001b[1;32m<ipython-input-19-f5bf76cbb785>\u001b[0m in \u001b[0;36m<module>\u001b[1;34m()\u001b[0m\n\u001b[0;32m      1\u001b[0m \u001b[1;31m# 존재 하지 않는 속성 사용\u001b[0m\u001b[1;33m\u001b[0m\u001b[1;33m\u001b[0m\u001b[0m\n\u001b[1;32m----> 2\u001b[1;33m \u001b[0mprint\u001b[0m\u001b[1;33m(\u001b[0m\u001b[0msoup\u001b[0m\u001b[1;33m.\u001b[0m\u001b[0minput\u001b[0m\u001b[1;33m.\u001b[0m\u001b[0mattrs\u001b[0m\u001b[1;33m[\u001b[0m\u001b[1;34m'abc'\u001b[0m\u001b[1;33m]\u001b[0m\u001b[1;33m)\u001b[0m\u001b[1;33m\u001b[0m\u001b[0m\n\u001b[0m",
      "\u001b[1;31mKeyError\u001b[0m: 'abc'"
     ]
    }
   ],
   "source": [
    "# 존재 하지 않는 속성 사용\n",
    "print(soup.input.attrs['abc'])"
   ]
  },
  {
   "cell_type": "code",
   "execution_count": 21,
   "metadata": {},
   "outputs": [
    {
     "name": "stdout",
     "output_type": "stream",
     "text": [
      "None\n",
      "default value\n"
     ]
    }
   ],
   "source": [
    "print(soup.input.attrs.get('abc'))\n",
    "print(soup.input.attrs.get('abc', 'default value'))"
   ]
  },
  {
   "cell_type": "code",
   "execution_count": 2,
   "metadata": {},
   "outputs": [
    {
     "name": "stdout",
     "output_type": "stream",
     "text": [
      "p태그 내부의 문자열\n",
      "p태그 내부의 문자열\n"
     ]
    }
   ],
   "source": [
    "# 태그 내부의 문자열 값 가져오기\n",
    "html = '''\n",
    "        <p>p태그 내부의 문자열</p>\n",
    "       '''\n",
    "soup = bs4.BeautifulSoup(html, 'lxml')\n",
    "\n",
    "print(soup.p.text)\n",
    "print(soup.p.string)"
   ]
  },
  {
   "cell_type": "code",
   "execution_count": 5,
   "metadata": {},
   "outputs": [
    {
     "name": "stdout",
     "output_type": "stream",
     "text": [
      "\n",
      "            test100\n",
      "            test1\n",
      "test2\n",
      "test3\n",
      "\n",
      "None\n"
     ]
    }
   ],
   "source": [
    "html = '''\n",
    "        <p>\n",
    "            test100\n",
    "            <span>test1</span>\n",
    "            <span>test2</span>\n",
    "            <span>test3</span>\n",
    "        </p>\n",
    "       '''\n",
    "soup = bs4.BeautifulSoup(html, 'lxml')\n",
    "print(soup.p.text)\n",
    "print(soup.p.string)"
   ]
  },
  {
   "cell_type": "code",
   "execution_count": null,
   "metadata": {},
   "outputs": [],
   "source": []
  },
  {
   "cell_type": "code",
   "execution_count": null,
   "metadata": {},
   "outputs": [],
   "source": []
  }
 ],
 "metadata": {
  "kernelspec": {
   "display_name": "Python 3",
   "language": "python",
   "name": "python3"
  },
  "language_info": {
   "codemirror_mode": {
    "name": "ipython",
    "version": 3
   },
   "file_extension": ".py",
   "mimetype": "text/x-python",
   "name": "python",
   "nbconvert_exporter": "python",
   "pygments_lexer": "ipython3",
   "version": "3.6.5"
  }
 },
 "nbformat": 4,
 "nbformat_minor": 2
}
